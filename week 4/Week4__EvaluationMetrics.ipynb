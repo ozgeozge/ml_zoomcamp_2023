{
  "nbformat": 4,
  "nbformat_minor": 0,
  "metadata": {
    "colab": {
      "provenance": [],
      "collapsed_sections": [
        "2tzmCUIHiUYj"
      ]
    },
    "kernelspec": {
      "name": "python3",
      "display_name": "Python 3"
    },
    "language_info": {
      "name": "python"
    },
    "widgets": {
      "application/vnd.jupyter.widget-state+json": {
        "fa1e89912636456eae0666321fbd1138": {
          "model_module": "@jupyter-widgets/controls",
          "model_name": "HBoxModel",
          "model_module_version": "1.5.0",
          "state": {
            "_dom_classes": [],
            "_model_module": "@jupyter-widgets/controls",
            "_model_module_version": "1.5.0",
            "_model_name": "HBoxModel",
            "_view_count": null,
            "_view_module": "@jupyter-widgets/controls",
            "_view_module_version": "1.5.0",
            "_view_name": "HBoxView",
            "box_style": "",
            "children": [
              "IPY_MODEL_da5ac259ca0a420c8bef1dc1b1c09676",
              "IPY_MODEL_042c1d7b398f4c50ab944e3e86ec3153",
              "IPY_MODEL_ecee295107034d478e782b9d5b56a607"
            ],
            "layout": "IPY_MODEL_64ff8deb79a04f8fb9de0c7e9c745e70"
          }
        },
        "da5ac259ca0a420c8bef1dc1b1c09676": {
          "model_module": "@jupyter-widgets/controls",
          "model_name": "HTMLModel",
          "model_module_version": "1.5.0",
          "state": {
            "_dom_classes": [],
            "_model_module": "@jupyter-widgets/controls",
            "_model_module_version": "1.5.0",
            "_model_name": "HTMLModel",
            "_view_count": null,
            "_view_module": "@jupyter-widgets/controls",
            "_view_module_version": "1.5.0",
            "_view_name": "HTMLView",
            "description": "",
            "description_tooltip": null,
            "layout": "IPY_MODEL_22f9af0b99b74786b3eb9b8817041966",
            "placeholder": "​",
            "style": "IPY_MODEL_33346aa91da64660b4642ccdd5001193",
            "value": "100%"
          }
        },
        "042c1d7b398f4c50ab944e3e86ec3153": {
          "model_module": "@jupyter-widgets/controls",
          "model_name": "FloatProgressModel",
          "model_module_version": "1.5.0",
          "state": {
            "_dom_classes": [],
            "_model_module": "@jupyter-widgets/controls",
            "_model_module_version": "1.5.0",
            "_model_name": "FloatProgressModel",
            "_view_count": null,
            "_view_module": "@jupyter-widgets/controls",
            "_view_module_version": "1.5.0",
            "_view_name": "ProgressView",
            "bar_style": "success",
            "description": "",
            "description_tooltip": null,
            "layout": "IPY_MODEL_9f54aef9d9c248ffb61be5b75e89f3cf",
            "max": 7,
            "min": 0,
            "orientation": "horizontal",
            "style": "IPY_MODEL_677e27b648774b9abfc3221eaccf69fa",
            "value": 7
          }
        },
        "ecee295107034d478e782b9d5b56a607": {
          "model_module": "@jupyter-widgets/controls",
          "model_name": "HTMLModel",
          "model_module_version": "1.5.0",
          "state": {
            "_dom_classes": [],
            "_model_module": "@jupyter-widgets/controls",
            "_model_module_version": "1.5.0",
            "_model_name": "HTMLModel",
            "_view_count": null,
            "_view_module": "@jupyter-widgets/controls",
            "_view_module_version": "1.5.0",
            "_view_name": "HTMLView",
            "description": "",
            "description_tooltip": null,
            "layout": "IPY_MODEL_77f49b7d2772401b8ffb7b42272ee0b4",
            "placeholder": "​",
            "style": "IPY_MODEL_00368cfd1d2649abb8871caf4573707d",
            "value": " 7/7 [00:17&lt;00:00,  2.38s/it]"
          }
        },
        "64ff8deb79a04f8fb9de0c7e9c745e70": {
          "model_module": "@jupyter-widgets/base",
          "model_name": "LayoutModel",
          "model_module_version": "1.2.0",
          "state": {
            "_model_module": "@jupyter-widgets/base",
            "_model_module_version": "1.2.0",
            "_model_name": "LayoutModel",
            "_view_count": null,
            "_view_module": "@jupyter-widgets/base",
            "_view_module_version": "1.2.0",
            "_view_name": "LayoutView",
            "align_content": null,
            "align_items": null,
            "align_self": null,
            "border": null,
            "bottom": null,
            "display": null,
            "flex": null,
            "flex_flow": null,
            "grid_area": null,
            "grid_auto_columns": null,
            "grid_auto_flow": null,
            "grid_auto_rows": null,
            "grid_column": null,
            "grid_gap": null,
            "grid_row": null,
            "grid_template_areas": null,
            "grid_template_columns": null,
            "grid_template_rows": null,
            "height": null,
            "justify_content": null,
            "justify_items": null,
            "left": null,
            "margin": null,
            "max_height": null,
            "max_width": null,
            "min_height": null,
            "min_width": null,
            "object_fit": null,
            "object_position": null,
            "order": null,
            "overflow": null,
            "overflow_x": null,
            "overflow_y": null,
            "padding": null,
            "right": null,
            "top": null,
            "visibility": null,
            "width": null
          }
        },
        "22f9af0b99b74786b3eb9b8817041966": {
          "model_module": "@jupyter-widgets/base",
          "model_name": "LayoutModel",
          "model_module_version": "1.2.0",
          "state": {
            "_model_module": "@jupyter-widgets/base",
            "_model_module_version": "1.2.0",
            "_model_name": "LayoutModel",
            "_view_count": null,
            "_view_module": "@jupyter-widgets/base",
            "_view_module_version": "1.2.0",
            "_view_name": "LayoutView",
            "align_content": null,
            "align_items": null,
            "align_self": null,
            "border": null,
            "bottom": null,
            "display": null,
            "flex": null,
            "flex_flow": null,
            "grid_area": null,
            "grid_auto_columns": null,
            "grid_auto_flow": null,
            "grid_auto_rows": null,
            "grid_column": null,
            "grid_gap": null,
            "grid_row": null,
            "grid_template_areas": null,
            "grid_template_columns": null,
            "grid_template_rows": null,
            "height": null,
            "justify_content": null,
            "justify_items": null,
            "left": null,
            "margin": null,
            "max_height": null,
            "max_width": null,
            "min_height": null,
            "min_width": null,
            "object_fit": null,
            "object_position": null,
            "order": null,
            "overflow": null,
            "overflow_x": null,
            "overflow_y": null,
            "padding": null,
            "right": null,
            "top": null,
            "visibility": null,
            "width": null
          }
        },
        "33346aa91da64660b4642ccdd5001193": {
          "model_module": "@jupyter-widgets/controls",
          "model_name": "DescriptionStyleModel",
          "model_module_version": "1.5.0",
          "state": {
            "_model_module": "@jupyter-widgets/controls",
            "_model_module_version": "1.5.0",
            "_model_name": "DescriptionStyleModel",
            "_view_count": null,
            "_view_module": "@jupyter-widgets/base",
            "_view_module_version": "1.2.0",
            "_view_name": "StyleView",
            "description_width": ""
          }
        },
        "9f54aef9d9c248ffb61be5b75e89f3cf": {
          "model_module": "@jupyter-widgets/base",
          "model_name": "LayoutModel",
          "model_module_version": "1.2.0",
          "state": {
            "_model_module": "@jupyter-widgets/base",
            "_model_module_version": "1.2.0",
            "_model_name": "LayoutModel",
            "_view_count": null,
            "_view_module": "@jupyter-widgets/base",
            "_view_module_version": "1.2.0",
            "_view_name": "LayoutView",
            "align_content": null,
            "align_items": null,
            "align_self": null,
            "border": null,
            "bottom": null,
            "display": null,
            "flex": null,
            "flex_flow": null,
            "grid_area": null,
            "grid_auto_columns": null,
            "grid_auto_flow": null,
            "grid_auto_rows": null,
            "grid_column": null,
            "grid_gap": null,
            "grid_row": null,
            "grid_template_areas": null,
            "grid_template_columns": null,
            "grid_template_rows": null,
            "height": null,
            "justify_content": null,
            "justify_items": null,
            "left": null,
            "margin": null,
            "max_height": null,
            "max_width": null,
            "min_height": null,
            "min_width": null,
            "object_fit": null,
            "object_position": null,
            "order": null,
            "overflow": null,
            "overflow_x": null,
            "overflow_y": null,
            "padding": null,
            "right": null,
            "top": null,
            "visibility": null,
            "width": null
          }
        },
        "677e27b648774b9abfc3221eaccf69fa": {
          "model_module": "@jupyter-widgets/controls",
          "model_name": "ProgressStyleModel",
          "model_module_version": "1.5.0",
          "state": {
            "_model_module": "@jupyter-widgets/controls",
            "_model_module_version": "1.5.0",
            "_model_name": "ProgressStyleModel",
            "_view_count": null,
            "_view_module": "@jupyter-widgets/base",
            "_view_module_version": "1.2.0",
            "_view_name": "StyleView",
            "bar_color": null,
            "description_width": ""
          }
        },
        "77f49b7d2772401b8ffb7b42272ee0b4": {
          "model_module": "@jupyter-widgets/base",
          "model_name": "LayoutModel",
          "model_module_version": "1.2.0",
          "state": {
            "_model_module": "@jupyter-widgets/base",
            "_model_module_version": "1.2.0",
            "_model_name": "LayoutModel",
            "_view_count": null,
            "_view_module": "@jupyter-widgets/base",
            "_view_module_version": "1.2.0",
            "_view_name": "LayoutView",
            "align_content": null,
            "align_items": null,
            "align_self": null,
            "border": null,
            "bottom": null,
            "display": null,
            "flex": null,
            "flex_flow": null,
            "grid_area": null,
            "grid_auto_columns": null,
            "grid_auto_flow": null,
            "grid_auto_rows": null,
            "grid_column": null,
            "grid_gap": null,
            "grid_row": null,
            "grid_template_areas": null,
            "grid_template_columns": null,
            "grid_template_rows": null,
            "height": null,
            "justify_content": null,
            "justify_items": null,
            "left": null,
            "margin": null,
            "max_height": null,
            "max_width": null,
            "min_height": null,
            "min_width": null,
            "object_fit": null,
            "object_position": null,
            "order": null,
            "overflow": null,
            "overflow_x": null,
            "overflow_y": null,
            "padding": null,
            "right": null,
            "top": null,
            "visibility": null,
            "width": null
          }
        },
        "00368cfd1d2649abb8871caf4573707d": {
          "model_module": "@jupyter-widgets/controls",
          "model_name": "DescriptionStyleModel",
          "model_module_version": "1.5.0",
          "state": {
            "_model_module": "@jupyter-widgets/controls",
            "_model_module_version": "1.5.0",
            "_model_name": "DescriptionStyleModel",
            "_view_count": null,
            "_view_module": "@jupyter-widgets/base",
            "_view_module_version": "1.2.0",
            "_view_name": "StyleView",
            "description_width": ""
          }
        }
      }
    }
  },
  "cells": [
    {
      "cell_type": "markdown",
      "source": [
        "#3- Churn Prediction"
      ],
      "metadata": {
        "id": "Pa-_6-meAwUV"
      }
    },
    {
      "cell_type": "code",
      "source": [
        "import numpy as np\n",
        "import pandas as pd\n",
        "import matplotlib.pyplot as plt"
      ],
      "metadata": {
        "id": "VzunJj2JZ1W7"
      },
      "execution_count": 1,
      "outputs": []
    },
    {
      "cell_type": "code",
      "source": [
        "data = \"https://raw.githubusercontent.com/alexeygrigorev/mlbookcamp-code/master/chapter-03-churn-prediction/WA_Fn-UseC_-Telco-Customer-Churn.csv\""
      ],
      "metadata": {
        "id": "7IQpJGcqaAN5"
      },
      "execution_count": 2,
      "outputs": []
    },
    {
      "cell_type": "code",
      "execution_count": 3,
      "metadata": {
        "colab": {
          "base_uri": "https://localhost:8080/"
        },
        "id": "HBFrbbpRZFNC",
        "outputId": "d466a892-c287-454d-89b5-cef6bc7c4061"
      },
      "outputs": [
        {
          "output_type": "stream",
          "name": "stdout",
          "text": [
            "--2023-10-01 18:30:53--  https://raw.githubusercontent.com/alexeygrigorev/mlbookcamp-code/master/chapter-03-churn-prediction/WA_Fn-UseC_-Telco-Customer-Churn.csv\n",
            "Resolving raw.githubusercontent.com (raw.githubusercontent.com)... 185.199.108.133, 185.199.109.133, 185.199.110.133, ...\n",
            "Connecting to raw.githubusercontent.com (raw.githubusercontent.com)|185.199.108.133|:443... connected.\n",
            "HTTP request sent, awaiting response... 200 OK\n",
            "Length: 977501 (955K) [text/plain]\n",
            "Saving to: ‘data-week-3.csv’\n",
            "\n",
            "\rdata-week-3.csv       0%[                    ]       0  --.-KB/s               \rdata-week-3.csv     100%[===================>] 954.59K  --.-KB/s    in 0.04s   \n",
            "\n",
            "2023-10-01 18:30:54 (21.4 MB/s) - ‘data-week-3.csv’ saved [977501/977501]\n",
            "\n"
          ]
        }
      ],
      "source": [
        "!wget  $data -O data-week-3.csv"
      ]
    },
    {
      "cell_type": "code",
      "source": [
        "import pandas as pd\n",
        "import numpy as np\n",
        "\n",
        "import matplotlib.pyplot as plt\n",
        "from sklearn.model_selection import train_test_split\n",
        "from sklearn.feature_extraction import DictVectorizer\n",
        "from sklearn.linear_model import LogisticRegression\n",
        "df = pd.read_csv('data-week-3.csv')\n",
        "\n",
        "df.columns = df.columns.str.lower().str.replace(' ', '_')\n",
        "\n",
        "categorical_columns = list(df.dtypes[df.dtypes == 'object'].index)\n",
        "\n",
        "for c in categorical_columns:\n",
        "    df[c] = df[c].str.lower().str.replace(' ', '_')\n",
        "\n",
        "df.totalcharges = pd.to_numeric(df.totalcharges, errors='coerce')\n",
        "df.totalcharges = df.totalcharges.fillna(0)\n",
        "\n",
        "df.churn = (df.churn == 'yes').astype(int)\n",
        "df_full_train, df_test = train_test_split(df, test_size=0.2, random_state=1)\n",
        "df_train, df_val = train_test_split(df_full_train, test_size=0.25, random_state=1)\n",
        "\n",
        "df_train = df_train.reset_index(drop=True)\n",
        "df_val = df_val.reset_index(drop=True)\n",
        "df_test = df_test.reset_index(drop=True)\n",
        "\n",
        "y_train = df_train.churn.values\n",
        "y_val = df_val.churn.values\n",
        "y_test = df_test.churn.values\n",
        "\n",
        "del df_train['churn']\n",
        "del df_val['churn']\n",
        "del df_test['churn']\n",
        "numerical = ['tenure', 'monthlycharges', 'totalcharges']\n",
        "\n",
        "categorical = [\n",
        "    'gender',\n",
        "    'seniorcitizen',\n",
        "    'partner',\n",
        "    'dependents',\n",
        "    'phoneservice',\n",
        "    'multiplelines',\n",
        "    'internetservice',\n",
        "    'onlinesecurity',\n",
        "    'onlinebackup',\n",
        "    'deviceprotection',\n",
        "    'techsupport',\n",
        "    'streamingtv',\n",
        "    'streamingmovies',\n",
        "    'contract',\n",
        "    'paperlessbilling',\n",
        "    'paymentmethod',\n",
        "]\n",
        "dv = DictVectorizer(sparse=False)\n",
        "\n",
        "train_dict = df_train[categorical + numerical].to_dict(orient='records')\n",
        "X_train = dv.fit_transform(train_dict)\n",
        "\n",
        "model = LogisticRegression()\n",
        "model.fit(X_train, y_train)\n",
        "LogisticRegression()\n",
        "val_dict = df_val[categorical + numerical].to_dict(orient='records')\n",
        "X_val = dv.transform(val_dict)\n",
        "\n",
        "y_pred = model.predict_proba(X_val)[:, 1]\n",
        "churn_decision = (y_pred >= 0.5)\n",
        "(y_val == churn_decision).mean()"
      ],
      "metadata": {
        "colab": {
          "base_uri": "https://localhost:8080/"
        },
        "id": "0tYNPMhtf63t",
        "outputId": "4d676f15-b0df-4e3f-d015-10d1eeac11ca"
      },
      "execution_count": 37,
      "outputs": [
        {
          "output_type": "stream",
          "name": "stderr",
          "text": [
            "/usr/local/lib/python3.10/dist-packages/sklearn/linear_model/_logistic.py:458: ConvergenceWarning: lbfgs failed to converge (status=1):\n",
            "STOP: TOTAL NO. of ITERATIONS REACHED LIMIT.\n",
            "\n",
            "Increase the number of iterations (max_iter) or scale the data as shown in:\n",
            "    https://scikit-learn.org/stable/modules/preprocessing.html\n",
            "Please also refer to the documentation for alternative solver options:\n",
            "    https://scikit-learn.org/stable/modules/linear_model.html#logistic-regression\n",
            "  n_iter_i = _check_optimize_result(\n"
          ]
        },
        {
          "output_type": "execute_result",
          "data": {
            "text/plain": [
              "0.8034066713981547"
            ]
          },
          "metadata": {},
          "execution_count": 37
        }
      ]
    },
    {
      "cell_type": "markdown",
      "source": [
        "# 4- Model Evaluation Metrics"
      ],
      "metadata": {
        "id": "zrhmnVJWBAof"
      }
    },
    {
      "cell_type": "markdown",
      "source": [
        "## 4.2 - Accuracy and Dummy Model"
      ],
      "metadata": {
        "id": "HvmIniPvBFpa"
      }
    },
    {
      "cell_type": "code",
      "source": [
        "(y_val==churn_decision).mean()"
      ],
      "metadata": {
        "colab": {
          "base_uri": "https://localhost:8080/"
        },
        "id": "2QhJx7f5BiN8",
        "outputId": "52f256af-54e6-43e5-e7cd-67548aa9ecfa"
      },
      "execution_count": 38,
      "outputs": [
        {
          "output_type": "execute_result",
          "data": {
            "text/plain": [
              "0.8034066713981547"
            ]
          },
          "metadata": {},
          "execution_count": 38
        }
      ]
    },
    {
      "cell_type": "code",
      "source": [
        "len(y_val)"
      ],
      "metadata": {
        "colab": {
          "base_uri": "https://localhost:8080/"
        },
        "id": "HQloFcXRCMu7",
        "outputId": "e2fa8fca-5a4f-4c1e-93c8-6eef01249ffe"
      },
      "execution_count": 39,
      "outputs": [
        {
          "output_type": "execute_result",
          "data": {
            "text/plain": [
              "1409"
            ]
          },
          "metadata": {},
          "execution_count": 39
        }
      ]
    },
    {
      "cell_type": "code",
      "source": [
        "(y_val==churn_decision).sum()"
      ],
      "metadata": {
        "colab": {
          "base_uri": "https://localhost:8080/"
        },
        "id": "5x36_TrhChAf",
        "outputId": "0367ee8c-d12e-42ac-979a-701c024ea1ba"
      },
      "execution_count": 40,
      "outputs": [
        {
          "output_type": "execute_result",
          "data": {
            "text/plain": [
              "1132"
            ]
          },
          "metadata": {},
          "execution_count": 40
        }
      ]
    },
    {
      "cell_type": "code",
      "source": [
        "1132/1409"
      ],
      "metadata": {
        "colab": {
          "base_uri": "https://localhost:8080/"
        },
        "id": "mX9pl9u1Ck6I",
        "outputId": "f340e6c5-1480-4b91-cd38-08a377e315b7"
      },
      "execution_count": 42,
      "outputs": [
        {
          "output_type": "execute_result",
          "data": {
            "text/plain": [
              "0.8034066713981547"
            ]
          },
          "metadata": {},
          "execution_count": 42
        }
      ]
    },
    {
      "cell_type": "code",
      "source": [
        "thresholds = np.linspace(0,1,21)"
      ],
      "metadata": {
        "id": "xlnt43bxCnwB"
      },
      "execution_count": 43,
      "outputs": []
    },
    {
      "cell_type": "code",
      "source": [
        "from sklearn.metrics import accuracy_score"
      ],
      "metadata": {
        "id": "St01-DzmEXsI"
      },
      "execution_count": 44,
      "outputs": []
    },
    {
      "cell_type": "code",
      "source": [
        "scores=[]\n",
        "for t in thresholds:\n",
        "  churn_decision = (y_pred>=t)\n",
        "  #score = (churn_decision==y_val).mean()\n",
        "  score = accuracy_score(y_val,y_pred>=t )\n",
        "  print('%.3f, %.2f'%(score,t))\n",
        "  scores.append(score)\n"
      ],
      "metadata": {
        "colab": {
          "base_uri": "https://localhost:8080/"
        },
        "id": "fiGVLOcyDOdC",
        "outputId": "fddcc4c9-9e48-4d40-b3ba-984742d0b9da"
      },
      "execution_count": 45,
      "outputs": [
        {
          "output_type": "stream",
          "name": "stdout",
          "text": [
            "0.274, 0.00\n",
            "0.510, 0.05\n",
            "0.591, 0.10\n",
            "0.667, 0.15\n",
            "0.710, 0.20\n",
            "0.737, 0.25\n",
            "0.760, 0.30\n",
            "0.773, 0.35\n",
            "0.785, 0.40\n",
            "0.793, 0.45\n",
            "0.803, 0.50\n",
            "0.801, 0.55\n",
            "0.795, 0.60\n",
            "0.786, 0.65\n",
            "0.765, 0.70\n",
            "0.744, 0.75\n",
            "0.735, 0.80\n",
            "0.726, 0.85\n",
            "0.726, 0.90\n",
            "0.726, 0.95\n",
            "0.726, 1.00\n"
          ]
        }
      ]
    },
    {
      "cell_type": "code",
      "source": [
        "scores"
      ],
      "metadata": {
        "colab": {
          "base_uri": "https://localhost:8080/"
        },
        "id": "mF7g2x0qDoMS",
        "outputId": "2237c56a-3d8b-4b2a-e51c-03491d45deef"
      },
      "execution_count": 46,
      "outputs": [
        {
          "output_type": "execute_result",
          "data": {
            "text/plain": [
              "[0.2739531582682754,\n",
              " 0.5102909865152591,\n",
              " 0.5911994322214337,\n",
              " 0.6671398154719659,\n",
              " 0.7097232079489,\n",
              " 0.7374024130589071,\n",
              " 0.7601135557132718,\n",
              " 0.772888573456352,\n",
              " 0.7849538679914834,\n",
              " 0.7927608232789212,\n",
              " 0.8034066713981547,\n",
              " 0.801277501774308,\n",
              " 0.794889992902768,\n",
              " 0.7863733144073811,\n",
              " 0.7650816181689141,\n",
              " 0.7444996451383961,\n",
              " 0.7345635202271115,\n",
              " 0.7260468417317246,\n",
              " 0.7260468417317246,\n",
              " 0.7260468417317246,\n",
              " 0.7260468417317246]"
            ]
          },
          "metadata": {},
          "execution_count": 46
        }
      ]
    },
    {
      "cell_type": "code",
      "source": [
        "plt.plot(thresholds,scores)"
      ],
      "metadata": {
        "colab": {
          "base_uri": "https://localhost:8080/",
          "height": 448
        },
        "id": "JureCvrjDow1",
        "outputId": "36d26ae2-e549-4279-993c-c1f982f3d86b"
      },
      "execution_count": 47,
      "outputs": [
        {
          "output_type": "execute_result",
          "data": {
            "text/plain": [
              "[<matplotlib.lines.Line2D at 0x79e43b399e10>]"
            ]
          },
          "metadata": {},
          "execution_count": 47
        },
        {
          "output_type": "display_data",
          "data": {
            "text/plain": [
              "<Figure size 640x480 with 1 Axes>"
            ],
            "image/png": "[encoded data removed]"
          },
          "metadata": {}
        }
      ]
    },
    {
      "cell_type": "code",
      "source": [
        "from collections import Counter"
      ],
      "metadata": {
        "id": "-fkjk977DzTr"
      },
      "execution_count": 48,
      "outputs": []
    },
    {
      "cell_type": "code",
      "source": [
        "Counter(y_pred>=0)"
      ],
      "metadata": {
        "colab": {
          "base_uri": "https://localhost:8080/"
        },
        "id": "S4K8Fk5xE2qr",
        "outputId": "d62346f2-d0a8-4f87-a903-544036b22705"
      },
      "execution_count": 49,
      "outputs": [
        {
          "output_type": "execute_result",
          "data": {
            "text/plain": [
              "Counter({True: 1409})"
            ]
          },
          "metadata": {},
          "execution_count": 49
        }
      ]
    },
    {
      "cell_type": "code",
      "source": [
        "1-y_val.mean()"
      ],
      "metadata": {
        "colab": {
          "base_uri": "https://localhost:8080/"
        },
        "id": "tWnF35pIE68t",
        "outputId": "b17cddba-6861-4ace-d246-90c6e90e8b9d"
      },
      "execution_count": 50,
      "outputs": [
        {
          "output_type": "execute_result",
          "data": {
            "text/plain": [
              "0.7260468417317246"
            ]
          },
          "metadata": {},
          "execution_count": 50
        }
      ]
    },
    {
      "cell_type": "markdown",
      "source": [
        "## 4.3 - Confusion Table"
      ],
      "metadata": {
        "id": "kXCagySUIOMs"
      }
    },
    {
      "cell_type": "code",
      "source": [
        "actual_positive = (y_val == 1)\n",
        "actual_negative = (y_val == 0)\n"
      ],
      "metadata": {
        "id": "WhbTrtGBFReF"
      },
      "execution_count": 51,
      "outputs": []
    },
    {
      "cell_type": "code",
      "source": [
        "t =0.5\n",
        "predict_positive = (y_pred >= t)\n",
        "predict_negative = (y_pred < t)\n"
      ],
      "metadata": {
        "id": "tW4wpV4NIdW3"
      },
      "execution_count": 52,
      "outputs": []
    },
    {
      "cell_type": "code",
      "source": [
        "tp = (predict_positive & actual_positive).sum()\n",
        "tn = (predict_negative & actual_negative).sum()\n",
        "\n",
        "fp = (predict_positive & actual_negative).sum()\n",
        "fn = (predict_negative & actual_positive).sum()\n"
      ],
      "metadata": {
        "id": "8rmpMLzJIox2"
      },
      "execution_count": 53,
      "outputs": []
    },
    {
      "cell_type": "code",
      "source": [
        "confusion_matrix = np.array([\n",
        "    [tn, fp],\n",
        "    [fn, tp]\n",
        "])\n",
        "confusion_matrix"
      ],
      "metadata": {
        "colab": {
          "base_uri": "https://localhost:8080/"
        },
        "id": "q5R_w7PdJEFO",
        "outputId": "cceec024-d88c-48ed-8b35-c206704a9282"
      },
      "execution_count": 54,
      "outputs": [
        {
          "output_type": "execute_result",
          "data": {
            "text/plain": [
              "array([[921, 102],\n",
              "       [175, 211]])"
            ]
          },
          "metadata": {},
          "execution_count": 54
        }
      ]
    },
    {
      "cell_type": "code",
      "source": [
        "(confusion_matrix/confusion_matrix.sum()).round(2)"
      ],
      "metadata": {
        "colab": {
          "base_uri": "https://localhost:8080/"
        },
        "id": "YHat_1MXJS_A",
        "outputId": "29516320-e390-4bbb-8e86-e3ce344fcd8b"
      },
      "execution_count": 55,
      "outputs": [
        {
          "output_type": "execute_result",
          "data": {
            "text/plain": [
              "array([[0.65, 0.07],\n",
              "       [0.12, 0.15]])"
            ]
          },
          "metadata": {},
          "execution_count": 55
        }
      ]
    },
    {
      "cell_type": "markdown",
      "source": [
        "## 4.4 - Precision and Recall"
      ],
      "metadata": {
        "id": "ZeIKzFoMJunz"
      }
    },
    {
      "cell_type": "markdown",
      "source": [
        "**Precision**: Fraction of positive predictions that are correct."
      ],
      "metadata": {
        "id": "ah5v2HAOJ29D"
      }
    },
    {
      "cell_type": "code",
      "source": [
        "prec= tp/(tp+fp)"
      ],
      "metadata": {
        "id": "zVNZ1u6mJcEN"
      },
      "execution_count": 56,
      "outputs": []
    },
    {
      "cell_type": "code",
      "source": [
        "prec"
      ],
      "metadata": {
        "colab": {
          "base_uri": "https://localhost:8080/"
        },
        "id": "7gRzsuGqJvwN",
        "outputId": "22a90a75-9a33-4525-ff7a-5d0dbeb4207b"
      },
      "execution_count": 57,
      "outputs": [
        {
          "output_type": "execute_result",
          "data": {
            "text/plain": [
              "0.6741214057507987"
            ]
          },
          "metadata": {},
          "execution_count": 57
        }
      ]
    },
    {
      "cell_type": "markdown",
      "source": [
        "**Recall**: Fraction of correctly identified positive examples."
      ],
      "metadata": {
        "id": "7dcdWEDALU2-"
      }
    },
    {
      "cell_type": "code",
      "source": [
        "rec = tp / (tp + fn)"
      ],
      "metadata": {
        "id": "hl5UCQVQK4Iu"
      },
      "execution_count": 58,
      "outputs": []
    },
    {
      "cell_type": "code",
      "source": [
        "rec"
      ],
      "metadata": {
        "colab": {
          "base_uri": "https://localhost:8080/"
        },
        "id": "LcGSg-C7LxSG",
        "outputId": "0d7ab261-6767-441c-e465-865f1e2efc31"
      },
      "execution_count": 59,
      "outputs": [
        {
          "output_type": "execute_result",
          "data": {
            "text/plain": [
              "0.5466321243523317"
            ]
          },
          "metadata": {},
          "execution_count": 59
        }
      ]
    },
    {
      "cell_type": "markdown",
      "source": [
        "##4.5 - ROC Curves"
      ],
      "metadata": {
        "id": "P_UZgAlxcoAh"
      }
    },
    {
      "cell_type": "code",
      "source": [
        "tpr=tp/(tp+fn)\n",
        "tpr"
      ],
      "metadata": {
        "id": "u6DijOGqLyA_",
        "colab": {
          "base_uri": "https://localhost:8080/"
        },
        "outputId": "eb046007-3609-4537-d676-cf06a90a4770"
      },
      "execution_count": 60,
      "outputs": [
        {
          "output_type": "execute_result",
          "data": {
            "text/plain": [
              "0.5466321243523317"
            ]
          },
          "metadata": {},
          "execution_count": 60
        }
      ]
    },
    {
      "cell_type": "code",
      "source": [
        "fpr = fp/ (fp+tn)\n",
        "fpr"
      ],
      "metadata": {
        "colab": {
          "base_uri": "https://localhost:8080/"
        },
        "id": "WYAVbSB3c1oO",
        "outputId": "882445a8-6686-413c-d753-2152fa72dc0b"
      },
      "execution_count": 61,
      "outputs": [
        {
          "output_type": "execute_result",
          "data": {
            "text/plain": [
              "0.09970674486803519"
            ]
          },
          "metadata": {},
          "execution_count": 61
        }
      ]
    },
    {
      "cell_type": "code",
      "source": [
        "scores = []\n",
        "\n",
        "thresholds = np.linspace(0, 1, 101)\n",
        "\n",
        "for t in thresholds:\n",
        "    actual_positive = (y_val == 1)\n",
        "    actual_negative = (y_val == 0)\n",
        "\n",
        "    predict_positive = (y_pred >= t)\n",
        "    predict_negative = (y_pred < t)\n",
        "\n",
        "    tp = (predict_positive & actual_positive).sum()\n",
        "    tn = (predict_negative & actual_negative).sum()\n",
        "\n",
        "    fp = (predict_positive & actual_negative).sum()\n",
        "    fn = (predict_negative & actual_positive).sum()\n",
        "\n",
        "    scores.append((t, tp, fp, fn, tn))"
      ],
      "metadata": {
        "id": "hfgAJrxadOrJ"
      },
      "execution_count": 62,
      "outputs": []
    },
    {
      "cell_type": "code",
      "source": [
        "columns = ['threshold', 'tp', 'fp', 'fn', 'tn']\n",
        "df_scores = pd.DataFrame(scores, columns=columns)\n",
        "\n",
        "df_scores['tpr'] = df_scores.tp / (df_scores.tp + df_scores.fn)\n",
        "df_scores['fpr'] = df_scores.fp / (df_scores.fp + df_scores.tn)"
      ],
      "metadata": {
        "id": "UAFCB-5hek08"
      },
      "execution_count": 63,
      "outputs": []
    },
    {
      "cell_type": "code",
      "source": [
        "plt.plot(df_scores.threshold, df_scores['tpr'], label='TPR')\n",
        "plt.plot(df_scores.threshold, df_scores['fpr'], label='FPR')\n",
        "plt.legend()"
      ],
      "metadata": {
        "colab": {
          "base_uri": "https://localhost:8080/",
          "height": 448
        },
        "id": "Ck4SUpQZezjg",
        "outputId": "3cd6ef21-00cb-42e7-e065-52cb92f2a5e3"
      },
      "execution_count": 64,
      "outputs": [
        {
          "output_type": "execute_result",
          "data": {
            "text/plain": [
              "<matplotlib.legend.Legend at 0x79e43b3b3fd0>"
            ]
          },
          "metadata": {},
          "execution_count": 64
        },
        {
          "output_type": "display_data",
          "data": {
            "text/plain": [
              "<Figure size 640x480 with 1 Axes>"
            ],
            "image/png": "[encoded data removed]"
          },
          "metadata": {}
        }
      ]
    },
    {
      "cell_type": "markdown",
      "source": [
        "###Random Model"
      ],
      "metadata": {
        "id": "2tzmCUIHiUYj"
      }
    },
    {
      "cell_type": "code",
      "source": [
        "np.random.seed(1)\n",
        "y_rand = np.random.uniform(0, 1, size=len(y_val))"
      ],
      "metadata": {
        "id": "xk77Lk6Ge2Hs"
      },
      "execution_count": 65,
      "outputs": []
    },
    {
      "cell_type": "code",
      "source": [
        "((y_rand >= 0.5) == y_val).mean()"
      ],
      "metadata": {
        "colab": {
          "base_uri": "https://localhost:8080/"
        },
        "id": "FLYNNSWeiZiQ",
        "outputId": "494a1002-0bdf-4eef-c59d-6fd0fbe0481e"
      },
      "execution_count": 66,
      "outputs": [
        {
          "output_type": "execute_result",
          "data": {
            "text/plain": [
              "0.5017743080198722"
            ]
          },
          "metadata": {},
          "execution_count": 66
        }
      ]
    },
    {
      "cell_type": "code",
      "source": [
        "def tpr_fpr_dataframe(y_val, y_pred):\n",
        "    scores = []\n",
        "\n",
        "    thresholds = np.linspace(0, 1, 101)\n",
        "\n",
        "    for t in thresholds:\n",
        "        actual_positive = (y_val == 1)\n",
        "        actual_negative = (y_val == 0)\n",
        "\n",
        "        predict_positive = (y_pred >= t)\n",
        "        predict_negative = (y_pred < t)\n",
        "\n",
        "        tp = (predict_positive & actual_positive).sum()\n",
        "        tn = (predict_negative & actual_negative).sum()\n",
        "\n",
        "        fp = (predict_positive & actual_negative).sum()\n",
        "        fn = (predict_negative & actual_positive).sum()\n",
        "\n",
        "        scores.append((t, tp, fp, fn, tn))\n",
        "\n",
        "    columns = ['threshold', 'tp', 'fp', 'fn', 'tn']\n",
        "    df_scores = pd.DataFrame(scores, columns=columns)\n",
        "\n",
        "    df_scores['tpr'] = df_scores.tp / (df_scores.tp + df_scores.fn)\n",
        "    df_scores['fpr'] = df_scores.fp / (df_scores.fp + df_scores.tn)\n",
        "\n",
        "    return df_scores"
      ],
      "metadata": {
        "id": "igh9GmaBigs2"
      },
      "execution_count": 67,
      "outputs": []
    },
    {
      "cell_type": "code",
      "source": [
        "df_rand = tpr_fpr_dataframe(y_val, y_rand)\n"
      ],
      "metadata": {
        "id": "aMrPkXH3iqdd"
      },
      "execution_count": 68,
      "outputs": []
    },
    {
      "cell_type": "code",
      "source": [
        "plt.plot(df_rand.threshold, df_rand['tpr'], label='TPR')\n",
        "plt.plot(df_rand.threshold, df_rand['fpr'], label='FPR')\n",
        "plt.legend()"
      ],
      "metadata": {
        "colab": {
          "base_uri": "https://localhost:8080/",
          "height": 448
        },
        "id": "_XP9lJeAir50",
        "outputId": "db438689-2500-4023-adf2-d503c151556d"
      },
      "execution_count": 69,
      "outputs": [
        {
          "output_type": "execute_result",
          "data": {
            "text/plain": [
              "<matplotlib.legend.Legend at 0x79e4387fa140>"
            ]
          },
          "metadata": {},
          "execution_count": 69
        },
        {
          "output_type": "display_data",
          "data": {
            "text/plain": [
              "<Figure size 640x480 with 1 Axes>"
            ],
            "image/png": "[encoded data removed]"
          },
          "metadata": {}
        }
      ]
    },
    {
      "cell_type": "markdown",
      "source": [
        "###Ideal Model"
      ],
      "metadata": {
        "id": "nDSaNoFYi0R1"
      }
    },
    {
      "cell_type": "code",
      "source": [
        "num_neg = (y_val == 0).sum()\n",
        "num_pos = (y_val == 1).sum()\n",
        "num_neg, num_pos"
      ],
      "metadata": {
        "colab": {
          "base_uri": "https://localhost:8080/"
        },
        "id": "k0N5e1OfivZC",
        "outputId": "8b2a52b9-bda8-45bf-9216-d37380858412"
      },
      "execution_count": 70,
      "outputs": [
        {
          "output_type": "execute_result",
          "data": {
            "text/plain": [
              "(1023, 386)"
            ]
          },
          "metadata": {},
          "execution_count": 70
        }
      ]
    },
    {
      "cell_type": "code",
      "source": [
        "y_ideal = np.repeat([0, 1], [num_neg, num_pos])\n",
        "y_ideal\n",
        "\n",
        "y_ideal_pred = np.linspace(0, 1, len(y_val))"
      ],
      "metadata": {
        "id": "J2ibdUVHi26-"
      },
      "execution_count": 71,
      "outputs": []
    },
    {
      "cell_type": "code",
      "source": [
        "y_ideal_pred"
      ],
      "metadata": {
        "colab": {
          "base_uri": "https://localhost:8080/"
        },
        "id": "VgSdHobXjUH0",
        "outputId": "cda806f6-262f-4815-cf84-4f7b74b9b81d"
      },
      "execution_count": 74,
      "outputs": [
        {
          "output_type": "execute_result",
          "data": {
            "text/plain": [
              "array([0.00000000e+00, 7.10227273e-04, 1.42045455e-03, ...,\n",
              "       9.98579545e-01, 9.99289773e-01, 1.00000000e+00])"
            ]
          },
          "metadata": {},
          "execution_count": 74
        }
      ]
    },
    {
      "cell_type": "code",
      "source": [
        "1 - y_val.mean()\n"
      ],
      "metadata": {
        "colab": {
          "base_uri": "https://localhost:8080/"
        },
        "id": "u9Ii_M4tjD1_",
        "outputId": "1e49e3e4-7fb4-4689-c9d1-f85058ef71a2"
      },
      "execution_count": 72,
      "outputs": [
        {
          "output_type": "execute_result",
          "data": {
            "text/plain": [
              "0.7260468417317246"
            ]
          },
          "metadata": {},
          "execution_count": 72
        }
      ]
    },
    {
      "cell_type": "code",
      "source": [
        "accuracy_score(y_ideal, y_ideal_pred >= 0.726)\n"
      ],
      "metadata": {
        "colab": {
          "base_uri": "https://localhost:8080/"
        },
        "id": "AGXxug2ijOuJ",
        "outputId": "f1714d19-a8f8-4ee1-a55b-c57a619d9d8e"
      },
      "execution_count": 73,
      "outputs": [
        {
          "output_type": "execute_result",
          "data": {
            "text/plain": [
              "1.0"
            ]
          },
          "metadata": {},
          "execution_count": 73
        }
      ]
    },
    {
      "cell_type": "code",
      "source": [
        "df_ideal = tpr_fpr_dataframe(y_ideal, y_ideal_pred)\n",
        "df_ideal[::10]"
      ],
      "metadata": {
        "colab": {
          "base_uri": "https://localhost:8080/",
          "height": 394
        },
        "id": "7nsI2HeTjlMJ",
        "outputId": "5af43699-f89c-4fc6-90cc-91e06f7836c7"
      },
      "execution_count": 75,
      "outputs": [
        {
          "output_type": "execute_result",
          "data": {
            "text/plain": [
              "     threshold   tp    fp   fn    tn       tpr       fpr\n",
              "0          0.0  386  1023    0     0  1.000000  1.000000\n",
              "10         0.1  386   882    0   141  1.000000  0.862170\n",
              "20         0.2  386   741    0   282  1.000000  0.724340\n",
              "30         0.3  386   600    0   423  1.000000  0.586510\n",
              "40         0.4  386   459    0   564  1.000000  0.448680\n",
              "50         0.5  386   319    0   704  1.000000  0.311828\n",
              "60         0.6  386   178    0   845  1.000000  0.173998\n",
              "70         0.7  386    37    0   986  1.000000  0.036168\n",
              "80         0.8  282     0  104  1023  0.730570  0.000000\n",
              "90         0.9  141     0  245  1023  0.365285  0.000000\n",
              "100        1.0    1     0  385  1023  0.002591  0.000000"
            ],
            "text/html": [
              "\n",
              "  <div id=\"df-4239b37f-7cda-4926-9a02-382f73e694d8\" class=\"colab-df-container\">\n",
              "    <div>\n",
              "<style scoped>\n",
              "    .dataframe tbody tr th:only-of-type {\n",
              "        vertical-align: middle;\n",
              "    }\n",
              "\n",
              "    .dataframe tbody tr th {\n",
              "        vertical-align: top;\n",
              "    }\n",
              "\n",
              "    .dataframe thead th {\n",
              "        text-align: right;\n",
              "    }\n",
              "</style>\n",
              "<table border=\"1\" class=\"dataframe\">\n",
              "  <thead>\n",
              "    <tr style=\"text-align: right;\">\n",
              "      <th></th>\n",
              "      <th>threshold</th>\n",
              "      <th>tp</th>\n",
              "      <th>fp</th>\n",
              "      <th>fn</th>\n",
              "      <th>tn</th>\n",
              "      <th>tpr</th>\n",
              "      <th>fpr</th>\n",
              "    </tr>\n",
              "  </thead>\n",
              "  <tbody>\n",
              "    <tr>\n",
              "      <th>0</th>\n",
              "      <td>0.0</td>\n",
              "      <td>386</td>\n",
              "      <td>1023</td>\n",
              "      <td>0</td>\n",
              "      <td>0</td>\n",
              "      <td>1.000000</td>\n",
              "      <td>1.000000</td>\n",
              "    </tr>\n",
              "    <tr>\n",
              "      <th>10</th>\n",
              "      <td>0.1</td>\n",
              "      <td>386</td>\n",
              "      <td>882</td>\n",
              "      <td>0</td>\n",
              "      <td>141</td>\n",
              "      <td>1.000000</td>\n",
              "      <td>0.862170</td>\n",
              "    </tr>\n",
              "    <tr>\n",
              "      <th>20</th>\n",
              "      <td>0.2</td>\n",
              "      <td>386</td>\n",
              "      <td>741</td>\n",
              "      <td>0</td>\n",
              "      <td>282</td>\n",
              "      <td>1.000000</td>\n",
              "      <td>0.724340</td>\n",
              "    </tr>\n",
              "    <tr>\n",
              "      <th>30</th>\n",
              "      <td>0.3</td>\n",
              "      <td>386</td>\n",
              "      <td>600</td>\n",
              "      <td>0</td>\n",
              "      <td>423</td>\n",
              "      <td>1.000000</td>\n",
              "      <td>0.586510</td>\n",
              "    </tr>\n",
              "    <tr>\n",
              "      <th>40</th>\n",
              "      <td>0.4</td>\n",
              "      <td>386</td>\n",
              "      <td>459</td>\n",
              "      <td>0</td>\n",
              "      <td>564</td>\n",
              "      <td>1.000000</td>\n",
              "      <td>0.448680</td>\n",
              "    </tr>\n",
              "    <tr>\n",
              "      <th>50</th>\n",
              "      <td>0.5</td>\n",
              "      <td>386</td>\n",
              "      <td>319</td>\n",
              "      <td>0</td>\n",
              "      <td>704</td>\n",
              "      <td>1.000000</td>\n",
              "      <td>0.311828</td>\n",
              "    </tr>\n",
              "    <tr>\n",
              "      <th>60</th>\n",
              "      <td>0.6</td>\n",
              "      <td>386</td>\n",
              "      <td>178</td>\n",
              "      <td>0</td>\n",
              "      <td>845</td>\n",
              "      <td>1.000000</td>\n",
              "      <td>0.173998</td>\n",
              "    </tr>\n",
              "    <tr>\n",
              "      <th>70</th>\n",
              "      <td>0.7</td>\n",
              "      <td>386</td>\n",
              "      <td>37</td>\n",
              "      <td>0</td>\n",
              "      <td>986</td>\n",
              "      <td>1.000000</td>\n",
              "      <td>0.036168</td>\n",
              "    </tr>\n",
              "    <tr>\n",
              "      <th>80</th>\n",
              "      <td>0.8</td>\n",
              "      <td>282</td>\n",
              "      <td>0</td>\n",
              "      <td>104</td>\n",
              "      <td>1023</td>\n",
              "      <td>0.730570</td>\n",
              "      <td>0.000000</td>\n",
              "    </tr>\n",
              "    <tr>\n",
              "      <th>90</th>\n",
              "      <td>0.9</td>\n",
              "      <td>141</td>\n",
              "      <td>0</td>\n",
              "      <td>245</td>\n",
              "      <td>1023</td>\n",
              "      <td>0.365285</td>\n",
              "      <td>0.000000</td>\n",
              "    </tr>\n",
              "    <tr>\n",
              "      <th>100</th>\n",
              "      <td>1.0</td>\n",
              "      <td>1</td>\n",
              "      <td>0</td>\n",
              "      <td>385</td>\n",
              "      <td>1023</td>\n",
              "      <td>0.002591</td>\n",
              "      <td>0.000000</td>\n",
              "    </tr>\n",
              "  </tbody>\n",
              "</table>\n",
              "</div>\n",
              "    <div class=\"colab-df-buttons\">\n",
              "\n",
              "  <div class=\"colab-df-container\">\n",
              "    <button class=\"colab-df-convert\" onclick=\"convertToInteractive('df-4239b37f-7cda-4926-9a02-382f73e694d8')\"\n",
              "            title=\"Convert this dataframe to an interactive table.\"\n",
              "            style=\"display:none;\">\n",
              "\n",
              "  <svg xmlns=\"http://www.w3.org/2000/svg\" height=\"24px\" viewBox=\"0 -960 960 960\">\n",
              "    <path d=\"M120-120v-720h720v720H120Zm60-500h600v-160H180v160Zm220 220h160v-160H400v160Zm0 220h160v-160H400v160ZM180-400h160v-160H180v160Zm440 0h160v-160H620v160ZM180-180h160v-160H180v160Zm440 0h160v-160H620v160Z\"/>\n",
              "  </svg>\n",
              "    </button>\n",
              "\n",
              "  <style>\n",
              "    .colab-df-container {\n",
              "      display:flex;\n",
              "      gap: 12px;\n",
              "    }\n",
              "\n",
              "    .colab-df-convert {\n",
              "      background-color: #E8F0FE;\n",
              "      border: none;\n",
              "      border-radius: 50%;\n",
              "      cursor: pointer;\n",
              "      display: none;\n",
              "      fill: #1967D2;\n",
              "      height: 32px;\n",
              "      padding: 0 0 0 0;\n",
              "      width: 32px;\n",
              "    }\n",
              "\n",
              "    .colab-df-convert:hover {\n",
              "      background-color: #E2EBFA;\n",
              "      box-shadow: 0px 1px 2px rgba(60, 64, 67, 0.3), 0px 1px 3px 1px rgba(60, 64, 67, 0.15);\n",
              "      fill: #174EA6;\n",
              "    }\n",
              "\n",
              "    .colab-df-buttons div {\n",
              "      margin-bottom: 4px;\n",
              "    }\n",
              "\n",
              "    [theme=dark] .colab-df-convert {\n",
              "      background-color: #3B4455;\n",
              "      fill: #D2E3FC;\n",
              "    }\n",
              "\n",
              "    [theme=dark] .colab-df-convert:hover {\n",
              "      background-color: #434B5C;\n",
              "      box-shadow: 0px 1px 3px 1px rgba(0, 0, 0, 0.15);\n",
              "      filter: drop-shadow(0px 1px 2px rgba(0, 0, 0, 0.3));\n",
              "      fill: #FFFFFF;\n",
              "    }\n",
              "  </style>\n",
              "\n",
              "    <script>\n",
              "      const buttonEl =\n",
              "        document.querySelector('#df-4239b37f-7cda-4926-9a02-382f73e694d8 button.colab-df-convert');\n",
              "      buttonEl.style.display =\n",
              "        google.colab.kernel.accessAllowed ? 'block' : 'none';\n",
              "\n",
              "      async function convertToInteractive(key) {\n",
              "        const element = document.querySelector('#df-4239b37f-7cda-4926-9a02-382f73e694d8');\n",
              "        const dataTable =\n",
              "          await google.colab.kernel.invokeFunction('convertToInteractive',\n",
              "                                                    [key], {});\n",
              "        if (!dataTable) return;\n",
              "\n",
              "        const docLinkHtml = 'Like what you see? Visit the ' +\n",
              "          '<a target=\"_blank\" href=https://colab.research.google.com/notebooks/data_table.ipynb>data table notebook</a>'\n",
              "          + ' to learn more about interactive tables.';\n",
              "        element.innerHTML = '';\n",
              "        dataTable['output_type'] = 'display_data';\n",
              "        await google.colab.output.renderOutput(dataTable, element);\n",
              "        const docLink = document.createElement('div');\n",
              "        docLink.innerHTML = docLinkHtml;\n",
              "        element.appendChild(docLink);\n",
              "      }\n",
              "    </script>\n",
              "  </div>\n",
              "\n",
              "\n",
              "<div id=\"df-bca0bfea-ed60-4d2b-932a-bb13c8845708\">\n",
              "  <button class=\"colab-df-quickchart\" onclick=\"quickchart('df-bca0bfea-ed60-4d2b-932a-bb13c8845708')\"\n",
              "            title=\"Suggest charts.\"\n",
              "            style=\"display:none;\">\n",
              "\n",
              "<svg xmlns=\"http://www.w3.org/2000/svg\" height=\"24px\"viewBox=\"0 0 24 24\"\n",
              "     width=\"24px\">\n",
              "    <g>\n",
              "        <path d=\"M19 3H5c-1.1 0-2 .9-2 2v14c0 1.1.9 2 2 2h14c1.1 0 2-.9 2-2V5c0-1.1-.9-2-2-2zM9 17H7v-7h2v7zm4 0h-2V7h2v10zm4 0h-2v-4h2v4z\"/>\n",
              "    </g>\n",
              "</svg>\n",
              "  </button>\n",
              "\n",
              "<style>\n",
              "  .colab-df-quickchart {\n",
              "      --bg-color: #E8F0FE;\n",
              "      --fill-color: #1967D2;\n",
              "      --hover-bg-color: #E2EBFA;\n",
              "      --hover-fill-color: #174EA6;\n",
              "      --disabled-fill-color: #AAA;\n",
              "      --disabled-bg-color: #DDD;\n",
              "  }\n",
              "\n",
              "  [theme=dark] .colab-df-quickchart {\n",
              "      --bg-color: #3B4455;\n",
              "      --fill-color: #D2E3FC;\n",
              "      --hover-bg-color: #434B5C;\n",
              "      --hover-fill-color: #FFFFFF;\n",
              "      --disabled-bg-color: #3B4455;\n",
              "      --disabled-fill-color: #666;\n",
              "  }\n",
              "\n",
              "  .colab-df-quickchart {\n",
              "    background-color: var(--bg-color);\n",
              "    border: none;\n",
              "    border-radius: 50%;\n",
              "    cursor: pointer;\n",
              "    display: none;\n",
              "    fill: var(--fill-color);\n",
              "    height: 32px;\n",
              "    padding: 0;\n",
              "    width: 32px;\n",
              "  }\n",
              "\n",
              "  .colab-df-quickchart:hover {\n",
              "    background-color: var(--hover-bg-color);\n",
              "    box-shadow: 0 1px 2px rgba(60, 64, 67, 0.3), 0 1px 3px 1px rgba(60, 64, 67, 0.15);\n",
              "    fill: var(--button-hover-fill-color);\n",
              "  }\n",
              "\n",
              "  .colab-df-quickchart-complete:disabled,\n",
              "  .colab-df-quickchart-complete:disabled:hover {\n",
              "    background-color: var(--disabled-bg-color);\n",
              "    fill: var(--disabled-fill-color);\n",
              "    box-shadow: none;\n",
              "  }\n",
              "\n",
              "  .colab-df-spinner {\n",
              "    border: 2px solid var(--fill-color);\n",
              "    border-color: transparent;\n",
              "    border-bottom-color: var(--fill-color);\n",
              "    animation:\n",
              "      spin 1s steps(1) infinite;\n",
              "  }\n",
              "\n",
              "  @keyframes spin {\n",
              "    0% {\n",
              "      border-color: transparent;\n",
              "      border-bottom-color: var(--fill-color);\n",
              "      border-left-color: var(--fill-color);\n",
              "    }\n",
              "    20% {\n",
              "      border-color: transparent;\n",
              "      border-left-color: var(--fill-color);\n",
              "      border-top-color: var(--fill-color);\n",
              "    }\n",
              "    30% {\n",
              "      border-color: transparent;\n",
              "      border-left-color: var(--fill-color);\n",
              "      border-top-color: var(--fill-color);\n",
              "      border-right-color: var(--fill-color);\n",
              "    }\n",
              "    40% {\n",
              "      border-color: transparent;\n",
              "      border-right-color: var(--fill-color);\n",
              "      border-top-color: var(--fill-color);\n",
              "    }\n",
              "    60% {\n",
              "      border-color: transparent;\n",
              "      border-right-color: var(--fill-color);\n",
              "    }\n",
              "    80% {\n",
              "      border-color: transparent;\n",
              "      border-right-color: var(--fill-color);\n",
              "      border-bottom-color: var(--fill-color);\n",
              "    }\n",
              "    90% {\n",
              "      border-color: transparent;\n",
              "      border-bottom-color: var(--fill-color);\n",
              "    }\n",
              "  }\n",
              "</style>\n",
              "\n",
              "  <script>\n",
              "    async function quickchart(key) {\n",
              "      const quickchartButtonEl =\n",
              "        document.querySelector('#' + key + ' button');\n",
              "      quickchartButtonEl.disabled = true;  // To prevent multiple clicks.\n",
              "      quickchartButtonEl.classList.add('colab-df-spinner');\n",
              "      try {\n",
              "        const charts = await google.colab.kernel.invokeFunction(\n",
              "            'suggestCharts', [key], {});\n",
              "      } catch (error) {\n",
              "        console.error('Error during call to suggestCharts:', error);\n",
              "      }\n",
              "      quickchartButtonEl.classList.remove('colab-df-spinner');\n",
              "      quickchartButtonEl.classList.add('colab-df-quickchart-complete');\n",
              "    }\n",
              "    (() => {\n",
              "      let quickchartButtonEl =\n",
              "        document.querySelector('#df-bca0bfea-ed60-4d2b-932a-bb13c8845708 button');\n",
              "      quickchartButtonEl.style.display =\n",
              "        google.colab.kernel.accessAllowed ? 'block' : 'none';\n",
              "    })();\n",
              "  </script>\n",
              "</div>\n",
              "    </div>\n",
              "  </div>\n"
            ]
          },
          "metadata": {},
          "execution_count": 75
        }
      ]
    },
    {
      "cell_type": "code",
      "source": [
        "plt.plot(df_ideal.threshold, df_ideal['tpr'], label='TPR')\n",
        "plt.plot(df_ideal.threshold, df_ideal['fpr'], label='FPR')\n",
        "plt.legend()"
      ],
      "metadata": {
        "colab": {
          "base_uri": "https://localhost:8080/",
          "height": 448
        },
        "id": "cv42ayH7jleF",
        "outputId": "dffba91c-e320-4167-b1f6-3f411a6b1d4d"
      },
      "execution_count": 76,
      "outputs": [
        {
          "output_type": "execute_result",
          "data": {
            "text/plain": [
              "<matplotlib.legend.Legend at 0x79e438803d90>"
            ]
          },
          "metadata": {},
          "execution_count": 76
        },
        {
          "output_type": "display_data",
          "data": {
            "text/plain": [
              "<Figure size 640x480 with 1 Axes>"
            ],
            "image/png": "[encoded data removed]"
          },
          "metadata": {}
        }
      ]
    },
    {
      "cell_type": "markdown",
      "source": [
        "###Putting everything together"
      ],
      "metadata": {
        "id": "6zWvPsLtjris"
      }
    },
    {
      "cell_type": "code",
      "source": [
        "\n",
        "plt.plot(df_scores.threshold, df_scores['tpr'], label='TPR', color='black')\n",
        "plt.plot(df_scores.threshold, df_scores['fpr'], label='FPR', color='blue')\n",
        "\n",
        "plt.plot(df_ideal.threshold, df_ideal['tpr'], label='TPR ideal')\n",
        "plt.plot(df_ideal.threshold, df_ideal['fpr'], label='FPR ideal')\n",
        "\n",
        "# plt.plot(df_rand.threshold, df_rand['tpr'], label='TPR random', color='grey')\n",
        "# plt.plot(df_rand.threshold, df_rand['fpr'], label='FPR random', color='grey')\n",
        "\n",
        "plt.legend()"
      ],
      "metadata": {
        "colab": {
          "base_uri": "https://localhost:8080/",
          "height": 448
        },
        "id": "_On031fljox5",
        "outputId": "2a9f2fd0-fd3a-4785-a881-2aa76fefa0b2"
      },
      "execution_count": 77,
      "outputs": [
        {
          "output_type": "execute_result",
          "data": {
            "text/plain": [
              "<matplotlib.legend.Legend at 0x79e43851f0d0>"
            ]
          },
          "metadata": {},
          "execution_count": 77
        },
        {
          "output_type": "display_data",
          "data": {
            "text/plain": [
              "<Figure size 640x480 with 1 Axes>"
            ],
            "image/png": "[encoded data removed]"
          },
          "metadata": {}
        }
      ]
    },
    {
      "cell_type": "code",
      "source": [
        "plt.figure(figsize=(5, 5))\n",
        "\n",
        "plt.plot(df_scores.fpr, df_scores.tpr, label='Model')\n",
        "plt.plot([0, 1], [0, 1], label='Random', linestyle='--')\n",
        "\n",
        "plt.xlabel('FPR')\n",
        "plt.ylabel('TPR')\n",
        "\n",
        "plt.legend()"
      ],
      "metadata": {
        "colab": {
          "base_uri": "https://localhost:8080/",
          "height": 483
        },
        "id": "Yfstcf-qjzb_",
        "outputId": "45313fa4-264c-4887-939f-3da538e04a15"
      },
      "execution_count": 78,
      "outputs": [
        {
          "output_type": "execute_result",
          "data": {
            "text/plain": [
              "<matplotlib.legend.Legend at 0x79e4385a72e0>"
            ]
          },
          "metadata": {},
          "execution_count": 78
        },
        {
          "output_type": "display_data",
          "data": {
            "text/plain": [
              "<Figure size 500x500 with 1 Axes>"
            ],
            "image/png": "[encoded data removed]"
          },
          "metadata": {}
        }
      ]
    },
    {
      "cell_type": "code",
      "source": [
        "from sklearn.metrics import roc_curve\n"
      ],
      "metadata": {
        "id": "i-86c59SkCFq"
      },
      "execution_count": 79,
      "outputs": []
    },
    {
      "cell_type": "code",
      "source": [
        "fpr, tpr, thresholds = roc_curve(y_val, y_pred)\n"
      ],
      "metadata": {
        "id": "y98fon2ZkMB3"
      },
      "execution_count": 80,
      "outputs": []
    },
    {
      "cell_type": "code",
      "source": [
        "plt.figure(figsize=(5, 5))\n",
        "\n",
        "plt.plot(fpr, tpr, label='Model')\n",
        "plt.plot([0, 1], [0, 1], label='Random', linestyle='--')\n",
        "\n",
        "plt.xlabel('FPR')\n",
        "plt.ylabel('TPR')\n",
        "\n",
        "plt.legend()"
      ],
      "metadata": {
        "colab": {
          "base_uri": "https://localhost:8080/",
          "height": 483
        },
        "id": "EmvYpxbNkN4c",
        "outputId": "6b3bb424-cfa3-40d5-8abe-74aa4451ba33"
      },
      "execution_count": 81,
      "outputs": [
        {
          "output_type": "execute_result",
          "data": {
            "text/plain": [
              "<matplotlib.legend.Legend at 0x79e43842e020>"
            ]
          },
          "metadata": {},
          "execution_count": 81
        },
        {
          "output_type": "display_data",
          "data": {
            "text/plain": [
              "<Figure size 500x500 with 1 Axes>"
            ],
            "image/png": "[encoded data removed]"
          },
          "metadata": {}
        }
      ]
    },
    {
      "cell_type": "markdown",
      "source": [
        "## 4.6 - ROC AUC"
      ],
      "metadata": {
        "id": "YIMbVLhkkZkj"
      }
    },
    {
      "cell_type": "code",
      "source": [
        "from sklearn.metrics import auc\n"
      ],
      "metadata": {
        "id": "a5DdbKeAkQnJ"
      },
      "execution_count": 83,
      "outputs": []
    },
    {
      "cell_type": "code",
      "source": [
        "auc(fpr,tpr)"
      ],
      "metadata": {
        "colab": {
          "base_uri": "https://localhost:8080/"
        },
        "id": "dAzlTMvgk4ZG",
        "outputId": "ed210ef1-b51c-4656-cf07-7a189e8d2f5c"
      },
      "execution_count": 85,
      "outputs": [
        {
          "output_type": "execute_result",
          "data": {
            "text/plain": [
              "0.8438834272864024"
            ]
          },
          "metadata": {},
          "execution_count": 85
        }
      ]
    },
    {
      "cell_type": "code",
      "source": [
        "auc(df_scores.fpr, df_scores.tpr)\n"
      ],
      "metadata": {
        "colab": {
          "base_uri": "https://localhost:8080/"
        },
        "id": "O8b_U7Qak6nw",
        "outputId": "3b01853f-3405-4326-f2b6-461f3d136feb"
      },
      "execution_count": 86,
      "outputs": [
        {
          "output_type": "execute_result",
          "data": {
            "text/plain": [
              "0.8435871332411529"
            ]
          },
          "metadata": {},
          "execution_count": 86
        }
      ]
    },
    {
      "cell_type": "code",
      "source": [
        "fpr, tpr, thresholds = roc_curve(y_val, y_pred)\n",
        "auc(fpr, tpr)"
      ],
      "metadata": {
        "colab": {
          "base_uri": "https://localhost:8080/"
        },
        "id": "NqxY5BbrlBWU",
        "outputId": "7693d1c6-804f-4290-81d5-fc38d4f57162"
      },
      "execution_count": 87,
      "outputs": [
        {
          "output_type": "execute_result",
          "data": {
            "text/plain": [
              "0.8438834272864024"
            ]
          },
          "metadata": {},
          "execution_count": 87
        }
      ]
    },
    {
      "cell_type": "code",
      "source": [
        "auc(df_ideal.fpr, df_ideal.tpr)\n"
      ],
      "metadata": {
        "colab": {
          "base_uri": "https://localhost:8080/"
        },
        "id": "AFecUl_KlESQ",
        "outputId": "f618cc42-e380-4cd2-f42e-628168657bc0"
      },
      "execution_count": 88,
      "outputs": [
        {
          "output_type": "execute_result",
          "data": {
            "text/plain": [
              "0.9999430203759136"
            ]
          },
          "metadata": {},
          "execution_count": 88
        }
      ]
    },
    {
      "cell_type": "code",
      "source": [
        "from sklearn.metrics import roc_auc_score\n"
      ],
      "metadata": {
        "id": "g6K8CfadlGaO"
      },
      "execution_count": 89,
      "outputs": []
    },
    {
      "cell_type": "code",
      "source": [
        "roc_auc_score(y_val, y_pred)\n"
      ],
      "metadata": {
        "colab": {
          "base_uri": "https://localhost:8080/"
        },
        "id": "pqa0pKJ8lTdY",
        "outputId": "db777af5-cd18-4040-d73d-dbd3a0a5c5d0"
      },
      "execution_count": 90,
      "outputs": [
        {
          "output_type": "execute_result",
          "data": {
            "text/plain": [
              "0.8438834272864024"
            ]
          },
          "metadata": {},
          "execution_count": 90
        }
      ]
    },
    {
      "cell_type": "code",
      "source": [
        "y_val"
      ],
      "metadata": {
        "colab": {
          "base_uri": "https://localhost:8080/"
        },
        "id": "-8n9Jy1XlVp8",
        "outputId": "36c6018e-3c66-4e59-f11b-1b6e3969e91f"
      },
      "execution_count": 91,
      "outputs": [
        {
          "output_type": "execute_result",
          "data": {
            "text/plain": [
              "array([0, 0, 0, ..., 0, 1, 1])"
            ]
          },
          "metadata": {},
          "execution_count": 91
        }
      ]
    },
    {
      "cell_type": "markdown",
      "source": [
        "**AUC:** Probability of a randomly selected positive example has a higher score than a randomly selected negative example."
      ],
      "metadata": {
        "id": "XIVvUvRergQO"
      }
    },
    {
      "cell_type": "code",
      "source": [
        "neg = y_pred[y_val ==0]\n",
        "pos = y_pred[y_val ==1]"
      ],
      "metadata": {
        "id": "AjQyDYtumFc2"
      },
      "execution_count": 93,
      "outputs": []
    },
    {
      "cell_type": "code",
      "source": [
        "y_val"
      ],
      "metadata": {
        "colab": {
          "base_uri": "https://localhost:8080/"
        },
        "id": "S1Uj6o7ttNQ7",
        "outputId": "32fc9bc4-8790-4766-e8be-74fb4a43bcd2"
      },
      "execution_count": 98,
      "outputs": [
        {
          "output_type": "execute_result",
          "data": {
            "text/plain": [
              "array([0, 0, 0, ..., 0, 1, 1])"
            ]
          },
          "metadata": {},
          "execution_count": 98
        }
      ]
    },
    {
      "cell_type": "code",
      "source": [
        "neg"
      ],
      "metadata": {
        "colab": {
          "base_uri": "https://localhost:8080/"
        },
        "id": "9XTD-GzJtFyT",
        "outputId": "7ed48579-bb24-4a4e-83c6-8b1af39630bf"
      },
      "execution_count": 97,
      "outputs": [
        {
          "output_type": "execute_result",
          "data": {
            "text/plain": [
              "array([0.00889774, 0.20477037, 0.21275457, ..., 0.10862369, 0.31171576,\n",
              "       0.13567362])"
            ]
          },
          "metadata": {},
          "execution_count": 97
        }
      ]
    },
    {
      "cell_type": "code",
      "source": [
        "import random"
      ],
      "metadata": {
        "id": "vt2PvID_sY59"
      },
      "execution_count": 94,
      "outputs": []
    },
    {
      "cell_type": "code",
      "source": [
        "pos_ind = random.randint(0, len(pos)-1)\n",
        "neg_ind = random.randint(0, len(neg)-1)"
      ],
      "metadata": {
        "id": "z6ZCLjPRsZ9j"
      },
      "execution_count": 95,
      "outputs": []
    },
    {
      "cell_type": "code",
      "source": [
        "pos[pos_ind]> neg[neg_ind]"
      ],
      "metadata": {
        "colab": {
          "base_uri": "https://localhost:8080/"
        },
        "id": "V2G6g4igsouq",
        "outputId": "c963f420-0a98-455e-850b-799422fc6990"
      },
      "execution_count": 96,
      "outputs": [
        {
          "output_type": "execute_result",
          "data": {
            "text/plain": [
              "True"
            ]
          },
          "metadata": {},
          "execution_count": 96
        }
      ]
    },
    {
      "cell_type": "code",
      "source": [
        "n = 100000\n",
        "success=0\n",
        "for i in range (n):\n",
        "  pos_ind = random.randint(0, len(pos)-1)\n",
        "  neg_ind = random.randint(0, len(neg)-1)\n",
        "\n",
        "  if pos[pos_ind] > neg[neg_ind]:\n",
        "      success = success + 1\n",
        "success/n"
      ],
      "metadata": {
        "colab": {
          "base_uri": "https://localhost:8080/"
        },
        "id": "JyAYsbaXs1SH",
        "outputId": "5594def4-34c3-4d1e-c8e8-cd43c6eceab3"
      },
      "execution_count": 101,
      "outputs": [
        {
          "output_type": "execute_result",
          "data": {
            "text/plain": [
              "0.84484"
            ]
          },
          "metadata": {},
          "execution_count": 101
        }
      ]
    },
    {
      "cell_type": "code",
      "source": [
        "n =50000\n",
        "np.random.seed(1)\n",
        "pos_ind = np.random.randint(0, len(pos),size =n)\n",
        "neg_ind = np.random.randint(0, len(neg),size =n)\n",
        "(pos[pos_ind] > neg[neg_ind]).mean()\n"
      ],
      "metadata": {
        "colab": {
          "base_uri": "https://localhost:8080/"
        },
        "id": "yR89ZCsSvBUh",
        "outputId": "d5d91a25-0209-4d9c-cd96-8d49a3fb9595"
      },
      "execution_count": 104,
      "outputs": [
        {
          "output_type": "execute_result",
          "data": {
            "text/plain": [
              "0.8466"
            ]
          },
          "metadata": {},
          "execution_count": 104
        }
      ]
    },
    {
      "cell_type": "markdown",
      "source": [
        "##4.7 - Cross-Validation"
      ],
      "metadata": {
        "id": "G48KKZj2wq9M"
      }
    },
    {
      "cell_type": "code",
      "source": [
        "def train(df_train, y_train, C=1.0):\n",
        "    dicts = df_train[categorical + numerical].to_dict(orient='records')\n",
        "\n",
        "    dv = DictVectorizer(sparse=False)\n",
        "    X_train = dv.fit_transform(dicts)\n",
        "\n",
        "    model = LogisticRegression(C=C, max_iter=1000)\n",
        "    model.fit(X_train, y_train)\n",
        "\n",
        "    return dv, model"
      ],
      "metadata": {
        "id": "SdG26vMKv9s4"
      },
      "execution_count": 105,
      "outputs": []
    },
    {
      "cell_type": "code",
      "source": [
        "dv, model = train(df_train, y_train, C=0.001)\n"
      ],
      "metadata": {
        "id": "SE40LbcSxT-2"
      },
      "execution_count": 106,
      "outputs": []
    },
    {
      "cell_type": "code",
      "source": [
        "def predict(df, dv, model):\n",
        "    dicts = df[categorical + numerical].to_dict(orient='records')\n",
        "\n",
        "    X = dv.transform(dicts)\n",
        "    y_pred = model.predict_proba(X)[:, 1]\n",
        "\n",
        "    return y_pred"
      ],
      "metadata": {
        "id": "tto0RIlRxU2h"
      },
      "execution_count": 107,
      "outputs": []
    },
    {
      "cell_type": "code",
      "source": [
        "y_pred = predict(df_val, dv, model)\n"
      ],
      "metadata": {
        "id": "Ufg_IRTHxedb"
      },
      "execution_count": 108,
      "outputs": []
    },
    {
      "cell_type": "code",
      "source": [
        "from sklearn.model_selection import KFold"
      ],
      "metadata": {
        "id": "bTTCSI4txjdL"
      },
      "execution_count": 109,
      "outputs": []
    },
    {
      "cell_type": "code",
      "source": [
        "!pip install tqdm\n"
      ],
      "metadata": {
        "colab": {
          "base_uri": "https://localhost:8080/"
        },
        "id": "cLhO1v6oxpFS",
        "outputId": "b12afe85-8e6c-482c-b044-5f1c0a0c2a16"
      },
      "execution_count": 111,
      "outputs": [
        {
          "output_type": "stream",
          "name": "stdout",
          "text": [
            "Requirement already satisfied: tqdm in /usr/local/lib/python3.10/dist-packages (4.66.1)\n"
          ]
        }
      ]
    },
    {
      "cell_type": "code",
      "source": [
        "from tqdm.auto import tqdm\n"
      ],
      "metadata": {
        "id": "TI8iEEQd0vVg"
      },
      "execution_count": 112,
      "outputs": []
    },
    {
      "cell_type": "code",
      "source": [
        "n_splits=5\n",
        "\n",
        "# C = regularization parameter for the model\n",
        "# tqdm() is a function that prints progress bars\n",
        "for C in tqdm([0.001, 0.01, 0.1, 0.5, 1, 5, 10]):\n",
        "\n",
        "  kfold =KFold(n_splits=n_splits, shuffle=True, random_state=1)\n",
        "\n",
        "  scores = []\n",
        "\n",
        "  for train_idx, val_idx in kfold.split(df_full_train):\n",
        "    df_train = df_full_train.iloc[train_idx]\n",
        "    df_val = df_full_train.iloc[val_idx]\n",
        "\n",
        "    y_train = df_train.churn.values\n",
        "    y_val = df_val.churn.values\n",
        "\n",
        "    dv, model = train(df_train, y_train, C=C)\n",
        "    y_pred = predict(df_val, dv, model)\n",
        "\n",
        "    auc = roc_auc_score(y_val, y_pred)\n",
        "    scores.append(auc)\n",
        "\n",
        "  print('C=%s %.3f +- %.3f' % (C, np.mean(scores), np.std(scores)))\n",
        "\n"
      ],
      "metadata": {
        "colab": {
          "base_uri": "https://localhost:8080/",
          "height": 174,
          "referenced_widgets": [
            "fa1e89912636456eae0666321fbd1138",
            "da5ac259ca0a420c8bef1dc1b1c09676",
            "042c1d7b398f4c50ab944e3e86ec3153",
            "ecee295107034d478e782b9d5b56a607",
            "64ff8deb79a04f8fb9de0c7e9c745e70",
            "22f9af0b99b74786b3eb9b8817041966",
            "33346aa91da64660b4642ccdd5001193",
            "9f54aef9d9c248ffb61be5b75e89f3cf",
            "677e27b648774b9abfc3221eaccf69fa",
            "77f49b7d2772401b8ffb7b42272ee0b4",
            "00368cfd1d2649abb8871caf4573707d"
          ]
        },
        "id": "4AzuguY5x7qq",
        "outputId": "101a0c8b-a66b-481e-cda6-1d59b74e7d86"
      },
      "execution_count": 119,
      "outputs": [
        {
          "output_type": "display_data",
          "data": {
            "text/plain": [
              "  0%|          | 0/7 [00:00<?, ?it/s]"
            ],
            "application/vnd.jupyter.widget-view+json": {
              "version_major": 2,
              "version_minor": 0,
              "model_id": "fa1e89912636456eae0666321fbd1138"
            }
          },
          "metadata": {}
        },
        {
          "output_type": "stream",
          "name": "stdout",
          "text": [
            "C=0.001 0.825 +- 0.009\n",
            "C=0.01 0.840 +- 0.009\n",
            "C=0.1 0.841 +- 0.008\n",
            "C=0.5 0.841 +- 0.007\n",
            "C=1 0.841 +- 0.009\n",
            "C=5 0.841 +- 0.008\n",
            "C=10 0.841 +- 0.007\n"
          ]
        }
      ]
    },
    {
      "cell_type": "code",
      "source": [
        "scores"
      ],
      "metadata": {
        "colab": {
          "base_uri": "https://localhost:8080/"
        },
        "id": "HQGBXEEm1Et1",
        "outputId": "5a58f83d-ca31-43f2-8c2e-3389e4435a80"
      },
      "execution_count": 120,
      "outputs": [
        {
          "output_type": "execute_result",
          "data": {
            "text/plain": [
              "[0.8422416026249893,\n",
              " 0.8458130545623096,\n",
              " 0.8325145494681917,\n",
              " 0.8337976434098612,\n",
              " 0.8509146245803395]"
            ]
          },
          "metadata": {},
          "execution_count": 120
        }
      ]
    },
    {
      "cell_type": "code",
      "source": [
        "dv, model = train(df_full_train, df_full_train.churn.values, C=1.0)\n",
        "y_pred = predict(df_test, dv, model)\n",
        "\n",
        "auc = roc_auc_score(y_test, y_pred)\n",
        "auc"
      ],
      "metadata": {
        "colab": {
          "base_uri": "https://localhost:8080/"
        },
        "id": "ivt5AOhQ2Lun",
        "outputId": "09a17cbd-3f7b-4b2d-c473-b25ea5e1fd86"
      },
      "execution_count": 121,
      "outputs": [
        {
          "output_type": "execute_result",
          "data": {
            "text/plain": [
              "0.8572386167896259"
            ]
          },
          "metadata": {},
          "execution_count": 121
        }
      ]
    },
    {
      "cell_type": "markdown",
      "source": [
        "##4.8 Summary"
      ],
      "metadata": {
        "id": "nD8K4qUV3hSZ"
      }
    },
    {
      "cell_type": "markdown",
      "source": [
        "* Metric - a single number that describes the performance of a model\n",
        "* Accuracy - fraction of correct answers; sometimes misleading\n",
        "* Precision and recall are less misleading when we have class inbalance\n",
        "* ROC Curve - a way to evaluate the performance at all thresholds; okay to use with imbalance\n",
        "* K-Fold CV - more reliable estimate for performance (mean + std)"
      ],
      "metadata": {
        "id": "SzumK1qL3k9d"
      }
    },
    {
      "cell_type": "code",
      "source": [],
      "metadata": {
        "id": "ahebIVy43vsk"
      },
      "execution_count": null,
      "outputs": []
    }
  ]
}
