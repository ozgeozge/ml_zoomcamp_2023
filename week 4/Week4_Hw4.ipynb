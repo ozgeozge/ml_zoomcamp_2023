{
  "nbformat": 4,
  "nbformat_minor": 0,
  "metadata": {
    "colab": {
      "provenance": [],
      "collapsed_sections": [
        "AsJrCXsPYqIO"
      ]
    },
    "kernelspec": {
      "name": "python3",
      "display_name": "Python 3"
    },
    "language_info": {
      "name": "python"
    },
    "widgets": {
      "application/vnd.jupyter.widget-state+json": {
        "3e246eb582f643d5b06bc2f86bbba819": {
          "model_module": "@jupyter-widgets/controls",
          "model_name": "HBoxModel",
          "model_module_version": "1.5.0",
          "state": {
            "_dom_classes": [],
            "_model_module": "@jupyter-widgets/controls",
            "_model_module_version": "1.5.0",
            "_model_name": "HBoxModel",
            "_view_count": null,
            "_view_module": "@jupyter-widgets/controls",
            "_view_module_version": "1.5.0",
            "_view_name": "HBoxView",
            "box_style": "",
            "children": [
              "IPY_MODEL_fedbd8f5f93f4949919feca1075f8a8b",
              "IPY_MODEL_354d8014607a4ee183b7d52dcb46fff9",
              "IPY_MODEL_c87bf8fb4e3c43e4985104dfa68f6b7d"
            ],
            "layout": "IPY_MODEL_2743ba343c5b43439e519a499a1db243"
          }
        },
        "fedbd8f5f93f4949919feca1075f8a8b": {
          "model_module": "@jupyter-widgets/controls",
          "model_name": "HTMLModel",
          "model_module_version": "1.5.0",
          "state": {
            "_dom_classes": [],
            "_model_module": "@jupyter-widgets/controls",
            "_model_module_version": "1.5.0",
            "_model_name": "HTMLModel",
            "_view_count": null,
            "_view_module": "@jupyter-widgets/controls",
            "_view_module_version": "1.5.0",
            "_view_name": "HTMLView",
            "description": "",
            "description_tooltip": null,
            "layout": "IPY_MODEL_6806ef70db554d6a8ca41b911412d1bb",
            "placeholder": "​",
            "style": "IPY_MODEL_50957f20ad924bf58cfa2c46da4ad6f5",
            "value": "100%"
          }
        },
        "354d8014607a4ee183b7d52dcb46fff9": {
          "model_module": "@jupyter-widgets/controls",
          "model_name": "FloatProgressModel",
          "model_module_version": "1.5.0",
          "state": {
            "_dom_classes": [],
            "_model_module": "@jupyter-widgets/controls",
            "_model_module_version": "1.5.0",
            "_model_name": "FloatProgressModel",
            "_view_count": null,
            "_view_module": "@jupyter-widgets/controls",
            "_view_module_version": "1.5.0",
            "_view_name": "ProgressView",
            "bar_style": "success",
            "description": "",
            "description_tooltip": null,
            "layout": "IPY_MODEL_588c38a5bca142989220e0ef100ad4e9",
            "max": 4,
            "min": 0,
            "orientation": "horizontal",
            "style": "IPY_MODEL_25776093375c46a0b7dc9674f3a2036a",
            "value": 4
          }
        },
        "c87bf8fb4e3c43e4985104dfa68f6b7d": {
          "model_module": "@jupyter-widgets/controls",
          "model_name": "HTMLModel",
          "model_module_version": "1.5.0",
          "state": {
            "_dom_classes": [],
            "_model_module": "@jupyter-widgets/controls",
            "_model_module_version": "1.5.0",
            "_model_name": "HTMLModel",
            "_view_count": null,
            "_view_module": "@jupyter-widgets/controls",
            "_view_module_version": "1.5.0",
            "_view_name": "HTMLView",
            "description": "",
            "description_tooltip": null,
            "layout": "IPY_MODEL_9b6e101ba14a4e3b91596da8de19bd65",
            "placeholder": "​",
            "style": "IPY_MODEL_b8591fb0ffd546b7b250ca04a721ede5",
            "value": " 4/4 [00:09&lt;00:00,  2.36s/it]"
          }
        },
        "2743ba343c5b43439e519a499a1db243": {
          "model_module": "@jupyter-widgets/base",
          "model_name": "LayoutModel",
          "model_module_version": "1.2.0",
          "state": {
            "_model_module": "@jupyter-widgets/base",
            "_model_module_version": "1.2.0",
            "_model_name": "LayoutModel",
            "_view_count": null,
            "_view_module": "@jupyter-widgets/base",
            "_view_module_version": "1.2.0",
            "_view_name": "LayoutView",
            "align_content": null,
            "align_items": null,
            "align_self": null,
            "border": null,
            "bottom": null,
            "display": null,
            "flex": null,
            "flex_flow": null,
            "grid_area": null,
            "grid_auto_columns": null,
            "grid_auto_flow": null,
            "grid_auto_rows": null,
            "grid_column": null,
            "grid_gap": null,
            "grid_row": null,
            "grid_template_areas": null,
            "grid_template_columns": null,
            "grid_template_rows": null,
            "height": null,
            "justify_content": null,
            "justify_items": null,
            "left": null,
            "margin": null,
            "max_height": null,
            "max_width": null,
            "min_height": null,
            "min_width": null,
            "object_fit": null,
            "object_position": null,
            "order": null,
            "overflow": null,
            "overflow_x": null,
            "overflow_y": null,
            "padding": null,
            "right": null,
            "top": null,
            "visibility": null,
            "width": null
          }
        },
        "6806ef70db554d6a8ca41b911412d1bb": {
          "model_module": "@jupyter-widgets/base",
          "model_name": "LayoutModel",
          "model_module_version": "1.2.0",
          "state": {
            "_model_module": "@jupyter-widgets/base",
            "_model_module_version": "1.2.0",
            "_model_name": "LayoutModel",
            "_view_count": null,
            "_view_module": "@jupyter-widgets/base",
            "_view_module_version": "1.2.0",
            "_view_name": "LayoutView",
            "align_content": null,
            "align_items": null,
            "align_self": null,
            "border": null,
            "bottom": null,
            "display": null,
            "flex": null,
            "flex_flow": null,
            "grid_area": null,
            "grid_auto_columns": null,
            "grid_auto_flow": null,
            "grid_auto_rows": null,
            "grid_column": null,
            "grid_gap": null,
            "grid_row": null,
            "grid_template_areas": null,
            "grid_template_columns": null,
            "grid_template_rows": null,
            "height": null,
            "justify_content": null,
            "justify_items": null,
            "left": null,
            "margin": null,
            "max_height": null,
            "max_width": null,
            "min_height": null,
            "min_width": null,
            "object_fit": null,
            "object_position": null,
            "order": null,
            "overflow": null,
            "overflow_x": null,
            "overflow_y": null,
            "padding": null,
            "right": null,
            "top": null,
            "visibility": null,
            "width": null
          }
        },
        "50957f20ad924bf58cfa2c46da4ad6f5": {
          "model_module": "@jupyter-widgets/controls",
          "model_name": "DescriptionStyleModel",
          "model_module_version": "1.5.0",
          "state": {
            "_model_module": "@jupyter-widgets/controls",
            "_model_module_version": "1.5.0",
            "_model_name": "DescriptionStyleModel",
            "_view_count": null,
            "_view_module": "@jupyter-widgets/base",
            "_view_module_version": "1.2.0",
            "_view_name": "StyleView",
            "description_width": ""
          }
        },
        "588c38a5bca142989220e0ef100ad4e9": {
          "model_module": "@jupyter-widgets/base",
          "model_name": "LayoutModel",
          "model_module_version": "1.2.0",
          "state": {
            "_model_module": "@jupyter-widgets/base",
            "_model_module_version": "1.2.0",
            "_model_name": "LayoutModel",
            "_view_count": null,
            "_view_module": "@jupyter-widgets/base",
            "_view_module_version": "1.2.0",
            "_view_name": "LayoutView",
            "align_content": null,
            "align_items": null,
            "align_self": null,
            "border": null,
            "bottom": null,
            "display": null,
            "flex": null,
            "flex_flow": null,
            "grid_area": null,
            "grid_auto_columns": null,
            "grid_auto_flow": null,
            "grid_auto_rows": null,
            "grid_column": null,
            "grid_gap": null,
            "grid_row": null,
            "grid_template_areas": null,
            "grid_template_columns": null,
            "grid_template_rows": null,
            "height": null,
            "justify_content": null,
            "justify_items": null,
            "left": null,
            "margin": null,
            "max_height": null,
            "max_width": null,
            "min_height": null,
            "min_width": null,
            "object_fit": null,
            "object_position": null,
            "order": null,
            "overflow": null,
            "overflow_x": null,
            "overflow_y": null,
            "padding": null,
            "right": null,
            "top": null,
            "visibility": null,
            "width": null
          }
        },
        "25776093375c46a0b7dc9674f3a2036a": {
          "model_module": "@jupyter-widgets/controls",
          "model_name": "ProgressStyleModel",
          "model_module_version": "1.5.0",
          "state": {
            "_model_module": "@jupyter-widgets/controls",
            "_model_module_version": "1.5.0",
            "_model_name": "ProgressStyleModel",
            "_view_count": null,
            "_view_module": "@jupyter-widgets/base",
            "_view_module_version": "1.2.0",
            "_view_name": "StyleView",
            "bar_color": null,
            "description_width": ""
          }
        },
        "9b6e101ba14a4e3b91596da8de19bd65": {
          "model_module": "@jupyter-widgets/base",
          "model_name": "LayoutModel",
          "model_module_version": "1.2.0",
          "state": {
            "_model_module": "@jupyter-widgets/base",
            "_model_module_version": "1.2.0",
            "_model_name": "LayoutModel",
            "_view_count": null,
            "_view_module": "@jupyter-widgets/base",
            "_view_module_version": "1.2.0",
            "_view_name": "LayoutView",
            "align_content": null,
            "align_items": null,
            "align_self": null,
            "border": null,
            "bottom": null,
            "display": null,
            "flex": null,
            "flex_flow": null,
            "grid_area": null,
            "grid_auto_columns": null,
            "grid_auto_flow": null,
            "grid_auto_rows": null,
            "grid_column": null,
            "grid_gap": null,
            "grid_row": null,
            "grid_template_areas": null,
            "grid_template_columns": null,
            "grid_template_rows": null,
            "height": null,
            "justify_content": null,
            "justify_items": null,
            "left": null,
            "margin": null,
            "max_height": null,
            "max_width": null,
            "min_height": null,
            "min_width": null,
            "object_fit": null,
            "object_position": null,
            "order": null,
            "overflow": null,
            "overflow_x": null,
            "overflow_y": null,
            "padding": null,
            "right": null,
            "top": null,
            "visibility": null,
            "width": null
          }
        },
        "b8591fb0ffd546b7b250ca04a721ede5": {
          "model_module": "@jupyter-widgets/controls",
          "model_name": "DescriptionStyleModel",
          "model_module_version": "1.5.0",
          "state": {
            "_model_module": "@jupyter-widgets/controls",
            "_model_module_version": "1.5.0",
            "_model_name": "DescriptionStyleModel",
            "_view_count": null,
            "_view_module": "@jupyter-widgets/base",
            "_view_module_version": "1.2.0",
            "_view_name": "StyleView",
            "description_width": ""
          }
        }
      }
    }
  },
  "cells": [
    {
      "cell_type": "markdown",
      "source": [
        "##Read the Dataset and Prepare Validation Framework\n",
        "\n"
      ],
      "metadata": {
        "id": "AsJrCXsPYqIO"
      }
    },
    {
      "cell_type": "code",
      "execution_count": 1,
      "metadata": {
        "id": "w4agkzegLNLc"
      },
      "outputs": [],
      "source": [
        "data = \"https://raw.githubusercontent.com/alexeygrigorev/mlbookcamp-code/master/chapter-02-car-price/data.csv\"\n"
      ]
    },
    {
      "cell_type": "code",
      "source": [
        "!wget  $data -O data-hw-4.csv"
      ],
      "metadata": {
        "colab": {
          "base_uri": "https://localhost:8080/"
        },
        "id": "eZXEIV6mLd7T",
        "outputId": "ba8f56a8-4a44-4d9c-dfc8-aaba8bbe6c9d"
      },
      "execution_count": 2,
      "outputs": [
        {
          "output_type": "stream",
          "name": "stdout",
          "text": [
            "--2023-10-04 10:58:37--  https://raw.githubusercontent.com/alexeygrigorev/mlbookcamp-code/master/chapter-02-car-price/data.csv\n",
            "Resolving raw.githubusercontent.com (raw.githubusercontent.com)... 185.199.108.133, 185.199.109.133, 185.199.110.133, ...\n",
            "Connecting to raw.githubusercontent.com (raw.githubusercontent.com)|185.199.108.133|:443... connected.\n",
            "HTTP request sent, awaiting response... 200 OK\n",
            "Length: 1475504 (1.4M) [text/plain]\n",
            "Saving to: ‘data-hw-4.csv’\n",
            "\n",
            "data-hw-4.csv       100%[===================>]   1.41M  --.-KB/s    in 0.02s   \n",
            "\n",
            "2023-10-04 10:58:38 (61.3 MB/s) - ‘data-hw-4.csv’ saved [1475504/1475504]\n",
            "\n"
          ]
        }
      ]
    },
    {
      "cell_type": "code",
      "source": [
        "import pandas as pd\n",
        "import numpy as np\n",
        "\n",
        "import matplotlib.pyplot as plt\n",
        "from sklearn.model_selection import train_test_split\n",
        "from sklearn.feature_extraction import DictVectorizer\n",
        "from sklearn.linear_model import LogisticRegression\n",
        "df = pd.read_csv('data-hw-4.csv')"
      ],
      "metadata": {
        "id": "PeJyxYyZLlDd"
      },
      "execution_count": 3,
      "outputs": []
    },
    {
      "cell_type": "code",
      "source": [
        "df = df[['Make','Model','Year','Engine HP','Engine Cylinders','Transmission Type','Vehicle Style', 'highway MPG','city mpg','MSRP']]"
      ],
      "metadata": {
        "id": "gB4qvt83VPOR"
      },
      "execution_count": 4,
      "outputs": []
    },
    {
      "cell_type": "code",
      "source": [
        "df.columns = df.columns.str.lower().str.replace(' ', '_')\n",
        "df = df.fillna(0)\n",
        "df.isna().sum()\n"
      ],
      "metadata": {
        "colab": {
          "base_uri": "https://localhost:8080/"
        },
        "id": "xE-HML_OVELA",
        "outputId": "71f9a707-9883-4d7b-cdf0-46889abfadf4"
      },
      "execution_count": 5,
      "outputs": [
        {
          "output_type": "execute_result",
          "data": {
            "text/plain": [
              "make                 0\n",
              "model                0\n",
              "year                 0\n",
              "engine_hp            0\n",
              "engine_cylinders     0\n",
              "transmission_type    0\n",
              "vehicle_style        0\n",
              "highway_mpg          0\n",
              "city_mpg             0\n",
              "msrp                 0\n",
              "dtype: int64"
            ]
          },
          "metadata": {},
          "execution_count": 5
        }
      ]
    },
    {
      "cell_type": "code",
      "source": [
        "mean_msrp=df['msrp'].mean()\n",
        "df['above_average']= (df['msrp']>mean_msrp).astype(int)\n"
      ],
      "metadata": {
        "id": "Cr6o_M9gV7wR"
      },
      "execution_count": 6,
      "outputs": []
    },
    {
      "cell_type": "code",
      "source": [
        "X=df.drop(['msrp','above_average'], axis=1)\n",
        "y = df[['above_average']].values"
      ],
      "metadata": {
        "id": "vlOrjLEPXY5Y"
      },
      "execution_count": 7,
      "outputs": []
    },
    {
      "cell_type": "code",
      "source": [
        "X_full_train,X_test, y_full_train, y_test = train_test_split(X, y,test_size=0.2, random_state=1)"
      ],
      "metadata": {
        "id": "kcrFfwq-XWsy"
      },
      "execution_count": 8,
      "outputs": []
    },
    {
      "cell_type": "code",
      "source": [
        "X_full_train.shape"
      ],
      "metadata": {
        "colab": {
          "base_uri": "https://localhost:8080/"
        },
        "id": "KBiRCEcfYSBc",
        "outputId": "17a79244-f492-4d90-97d0-e414030f328a"
      },
      "execution_count": 9,
      "outputs": [
        {
          "output_type": "execute_result",
          "data": {
            "text/plain": [
              "(9531, 9)"
            ]
          },
          "metadata": {},
          "execution_count": 9
        }
      ]
    },
    {
      "cell_type": "code",
      "source": [
        "y_full_train.shape"
      ],
      "metadata": {
        "colab": {
          "base_uri": "https://localhost:8080/"
        },
        "id": "3lPkYMQIYbjX",
        "outputId": "98c52e02-cf9c-4aae-e429-8b5f05320fd6"
      },
      "execution_count": 10,
      "outputs": [
        {
          "output_type": "execute_result",
          "data": {
            "text/plain": [
              "(9531, 1)"
            ]
          },
          "metadata": {},
          "execution_count": 10
        }
      ]
    },
    {
      "cell_type": "code",
      "source": [
        "X_train,X_val, y_train, y_val =  train_test_split(X_full_train,y_full_train, test_size=0.25,random_state=1)"
      ],
      "metadata": {
        "id": "brzrA3V2YX93"
      },
      "execution_count": 11,
      "outputs": []
    },
    {
      "cell_type": "code",
      "source": [
        "X_train.shape"
      ],
      "metadata": {
        "colab": {
          "base_uri": "https://localhost:8080/"
        },
        "id": "X2YwSFMkYgiT",
        "outputId": "777d03e4-e8ab-4a87-bfde-b4257a43cdb8"
      },
      "execution_count": 12,
      "outputs": [
        {
          "output_type": "execute_result",
          "data": {
            "text/plain": [
              "(7148, 9)"
            ]
          },
          "metadata": {},
          "execution_count": 12
        }
      ]
    },
    {
      "cell_type": "code",
      "source": [
        "y_train.shape"
      ],
      "metadata": {
        "colab": {
          "base_uri": "https://localhost:8080/"
        },
        "id": "anv46n5IYh2P",
        "outputId": "d0f893a1-c89a-4d5a-db90-d9146a3466ca"
      },
      "execution_count": 13,
      "outputs": [
        {
          "output_type": "execute_result",
          "data": {
            "text/plain": [
              "(7148, 1)"
            ]
          },
          "metadata": {},
          "execution_count": 13
        }
      ]
    },
    {
      "cell_type": "markdown",
      "source": [
        "##Q.1"
      ],
      "metadata": {
        "id": "h65YFHvXY2A0"
      }
    },
    {
      "cell_type": "code",
      "source": [
        "X_train.dtypes"
      ],
      "metadata": {
        "colab": {
          "base_uri": "https://localhost:8080/"
        },
        "id": "khTVN4xaY41h",
        "outputId": "fbb22108-4165-4119-f1e5-0f903add4c52"
      },
      "execution_count": 17,
      "outputs": [
        {
          "output_type": "execute_result",
          "data": {
            "text/plain": [
              "make                  object\n",
              "model                 object\n",
              "year                   int64\n",
              "engine_hp            float64\n",
              "engine_cylinders     float64\n",
              "transmission_type     object\n",
              "vehicle_style         object\n",
              "highway_mpg            int64\n",
              "city_mpg               int64\n",
              "dtype: object"
            ]
          },
          "metadata": {},
          "execution_count": 17
        }
      ]
    },
    {
      "cell_type": "code",
      "source": [
        "numerical_columns = list(X_train.dtypes[(df.dtypes == 'int64')|(df.dtypes == 'float64')].index)\n",
        "numerical_columns"
      ],
      "metadata": {
        "colab": {
          "base_uri": "https://localhost:8080/"
        },
        "id": "q8Rs6gQYZniT",
        "outputId": "99f60f69-4e7d-41e6-d16b-a610f6915d92"
      },
      "execution_count": 19,
      "outputs": [
        {
          "output_type": "execute_result",
          "data": {
            "text/plain": [
              "['year', 'engine_hp', 'engine_cylinders', 'highway_mpg', 'city_mpg']"
            ]
          },
          "metadata": {},
          "execution_count": 19
        }
      ]
    },
    {
      "cell_type": "code",
      "source": [
        "from sklearn.metrics import roc_auc_score\n"
      ],
      "metadata": {
        "id": "vBLzFUnmZOdg"
      },
      "execution_count": 20,
      "outputs": []
    },
    {
      "cell_type": "code",
      "source": [
        "for c in numerical_columns:\n",
        "  print(\"column = \",c,\", roc auc score = \",roc_auc_score( y_train,X_train[[c]]))\n"
      ],
      "metadata": {
        "colab": {
          "base_uri": "https://localhost:8080/"
        },
        "id": "5yqDOxGsactW",
        "outputId": "de2c9eed-f4d8-447d-96d9-8cc728c8fbe0"
      },
      "execution_count": 33,
      "outputs": [
        {
          "output_type": "stream",
          "name": "stdout",
          "text": [
            "column =  year , roc auc score =  0.687551492804683\n",
            "column =  engine_hp , roc auc score =  0.9171031265539011\n",
            "column =  engine_cylinders , roc auc score =  0.766116490165669\n",
            "column =  highway_mpg , roc auc score =  0.3669412128227987\n",
            "column =  city_mpg , roc auc score =  0.3265755356754767\n"
          ]
        }
      ]
    },
    {
      "cell_type": "code",
      "source": [
        "for c in numerical_columns:\n",
        "  auc_score = roc_auc_score( y_train,X_train[[c]])\n",
        "  if (auc_score<0.5):\n",
        "    print(c, \" <0.5\")\n",
        "    auc_score= roc_auc_score( y_train,-X_train[[c]])\n",
        "  print(\"column = \",c,\", roc auc score = \",auc_score)"
      ],
      "metadata": {
        "colab": {
          "base_uri": "https://localhost:8080/"
        },
        "id": "zKV8HoMZf9fG",
        "outputId": "b7e1e192-7517-4715-8bb4-1ad46a68c786"
      },
      "execution_count": 37,
      "outputs": [
        {
          "output_type": "stream",
          "name": "stdout",
          "text": [
            "column =  year , roc auc score =  0.687551492804683\n",
            "column =  engine_hp , roc auc score =  0.9171031265539011\n",
            "column =  engine_cylinders , roc auc score =  0.766116490165669\n",
            "highway_mpg  <0.5\n",
            "column =  highway_mpg , roc auc score =  0.6330587871772013\n",
            "city_mpg  <0.5\n",
            "column =  city_mpg , roc auc score =  0.6734244643245233\n"
          ]
        }
      ]
    },
    {
      "cell_type": "markdown",
      "source": [
        "##Q.2"
      ],
      "metadata": {
        "id": "IRPx4HJGiH5n"
      }
    },
    {
      "cell_type": "code",
      "source": [
        "def train(X_train, y_train):\n",
        "    dicts = X_train.to_dict(orient='records')\n",
        "\n",
        "    dv = DictVectorizer(sparse=False)\n",
        "    X_train = dv.fit_transform(dicts)\n",
        "\n",
        "    model = LogisticRegression(solver='liblinear', C=1.0, max_iter=1000)\n",
        "    model.fit(X_train, y_train)\n",
        "\n",
        "    return dv, model"
      ],
      "metadata": {
        "id": "qYkXp6_gh2Y-"
      },
      "execution_count": 40,
      "outputs": []
    },
    {
      "cell_type": "code",
      "source": [
        "dv, model = train(X_train, y_train)\n"
      ],
      "metadata": {
        "colab": {
          "base_uri": "https://localhost:8080/"
        },
        "id": "eRRMnPVriYzZ",
        "outputId": "667d0af0-8407-4042-b2f2-a0296b0db41e"
      },
      "execution_count": 41,
      "outputs": [
        {
          "output_type": "stream",
          "name": "stderr",
          "text": [
            "/usr/local/lib/python3.10/dist-packages/sklearn/utils/validation.py:1143: DataConversionWarning: A column-vector y was passed when a 1d array was expected. Please change the shape of y to (n_samples, ), for example using ravel().\n",
            "  y = column_or_1d(y, warn=True)\n"
          ]
        }
      ]
    },
    {
      "cell_type": "code",
      "source": [
        "def predict(X_val, dv, model):\n",
        "    dicts = X_val.to_dict(orient='records')\n",
        "\n",
        "    X_val = dv.transform(dicts)\n",
        "    y_pred = model.predict_proba(X_val)[:, 1]\n",
        "\n",
        "    return y_pred"
      ],
      "metadata": {
        "id": "5P2z6Bo-ibeK"
      },
      "execution_count": 44,
      "outputs": []
    },
    {
      "cell_type": "code",
      "source": [
        "y_pred = predict(X_val, dv, model)\n"
      ],
      "metadata": {
        "id": "bYREG2_AieBs"
      },
      "execution_count": 45,
      "outputs": []
    },
    {
      "cell_type": "code",
      "source": [
        "round(roc_auc_score(y_val.reshape(-1),y_pred),4)"
      ],
      "metadata": {
        "colab": {
          "base_uri": "https://localhost:8080/"
        },
        "id": "EUrPD4FbjKYD",
        "outputId": "5f7e0e59-c810-498b-fdc5-08818f66f221"
      },
      "execution_count": 73,
      "outputs": [
        {
          "output_type": "execute_result",
          "data": {
            "text/plain": [
              "0.9797"
            ]
          },
          "metadata": {},
          "execution_count": 73
        }
      ]
    },
    {
      "cell_type": "code",
      "source": [
        "len(y_pred)"
      ],
      "metadata": {
        "colab": {
          "base_uri": "https://localhost:8080/"
        },
        "id": "RB1ZHLZFw3x9",
        "outputId": "60b15f3b-f8a4-4168-b7be-fad4783cca17"
      },
      "execution_count": 65,
      "outputs": [
        {
          "output_type": "execute_result",
          "data": {
            "text/plain": [
              "2383"
            ]
          },
          "metadata": {},
          "execution_count": 65
        }
      ]
    },
    {
      "cell_type": "markdown",
      "source": [
        "##Q.3"
      ],
      "metadata": {
        "id": "QPa9nZjEqxPd"
      }
    },
    {
      "cell_type": "code",
      "source": [
        "scores = []\n",
        "thresholds = np.arange(start=0, stop=1, step=0.01)\n",
        "\n",
        "for t in thresholds:\n",
        "\n",
        "    actual_positive = (y_val.reshape(-1) == 1)\n",
        "    actual_negative = (y_val.reshape(-1) == 0)\n",
        "\n",
        "    predict_positive = (y_pred >= t)\n",
        "    predict_negative = (y_pred < t)\n",
        "\n",
        "    tp = (predict_positive & actual_positive).sum()\n",
        "    tn = (predict_negative & actual_negative).sum()\n",
        "\n",
        "    fp = (predict_positive & actual_negative).sum()\n",
        "    fn = (predict_negative & actual_positive).sum()\n",
        "\n",
        "    scores.append((t, tp, fp, fn, tn))"
      ],
      "metadata": {
        "id": "2kbiGzkHjQgR"
      },
      "execution_count": 88,
      "outputs": []
    },
    {
      "cell_type": "code",
      "source": [
        "columns = ['threshold', 'tp', 'fp', 'fn', 'tn']\n",
        "df_scores = pd.DataFrame(scores, columns=columns)\n",
        "\n",
        "df_scores['recall'] = df_scores.tp / (df_scores.tp + df_scores.fn)\n",
        "df_scores['precision'] = df_scores.tp / (df_scores.tp + df_scores.fp)"
      ],
      "metadata": {
        "id": "HqLtD6K0p0lh"
      },
      "execution_count": 89,
      "outputs": []
    },
    {
      "cell_type": "code",
      "source": [
        "import matplotlib.pyplot as plt"
      ],
      "metadata": {
        "id": "w0lI6pi4qp53"
      },
      "execution_count": 90,
      "outputs": []
    },
    {
      "cell_type": "code",
      "source": [
        "plt.plot(df_scores.threshold, df_scores['recall'], label='recall')\n",
        "plt.plot(df_scores.threshold, df_scores['precision'], label='precision')\n",
        "plt.legend()"
      ],
      "metadata": {
        "colab": {
          "base_uri": "https://localhost:8080/",
          "height": 448
        },
        "id": "SdeaO5vcqkMH",
        "outputId": "f3faea6e-e1b5-4e31-b2ec-610c757f3c7b"
      },
      "execution_count": 91,
      "outputs": [
        {
          "output_type": "execute_result",
          "data": {
            "text/plain": [
              "<matplotlib.legend.Legend at 0x7b47bb116980>"
            ]
          },
          "metadata": {},
          "execution_count": 91
        },
        {
          "output_type": "display_data",
          "data": {
            "text/plain": [
              "<Figure size 640x480 with 1 Axes>"
            ],
            "image/png": "[encoded data removed]"
          },
          "metadata": {}
        }
      ]
    },
    {
      "cell_type": "markdown",
      "source": [
        "##Q.4"
      ],
      "metadata": {
        "id": "JturhrOOrWT5"
      }
    },
    {
      "cell_type": "code",
      "source": [
        "df_scores['f1_score']= (2*df_scores['recall']*df_scores['precision'])/(df_scores['recall']+df_scores['precision'])"
      ],
      "metadata": {
        "id": "SJg_9wZWrYR1"
      },
      "execution_count": 92,
      "outputs": []
    },
    {
      "cell_type": "code",
      "source": [
        "df_scores['f1_score'].max()"
      ],
      "metadata": {
        "colab": {
          "base_uri": "https://localhost:8080/"
        },
        "id": "E5CbcpjcwMW0",
        "outputId": "a24690f8-38d4-4f6f-d80b-3ff794a4f463"
      },
      "execution_count": 93,
      "outputs": [
        {
          "output_type": "execute_result",
          "data": {
            "text/plain": [
              "0.8852963818321786"
            ]
          },
          "metadata": {},
          "execution_count": 93
        }
      ]
    },
    {
      "cell_type": "code",
      "source": [
        "max_index=df_scores['f1_score'].idxmax()\n",
        "max_index"
      ],
      "metadata": {
        "colab": {
          "base_uri": "https://localhost:8080/"
        },
        "id": "zxnnrUTNvkGv",
        "outputId": "e81ef163-5bbb-4dbe-c407-aefce3bb8685"
      },
      "execution_count": 94,
      "outputs": [
        {
          "output_type": "execute_result",
          "data": {
            "text/plain": [
              "49"
            ]
          },
          "metadata": {},
          "execution_count": 94
        }
      ]
    },
    {
      "cell_type": "code",
      "source": [
        "df_scores.threshold.iloc[max_index]"
      ],
      "metadata": {
        "colab": {
          "base_uri": "https://localhost:8080/"
        },
        "id": "XpxEZS0ZwB_M",
        "outputId": "35f8b36d-f2f9-41a7-8c2c-6449c90e4068"
      },
      "execution_count": 95,
      "outputs": [
        {
          "output_type": "execute_result",
          "data": {
            "text/plain": [
              "0.49"
            ]
          },
          "metadata": {},
          "execution_count": 95
        }
      ]
    },
    {
      "cell_type": "code",
      "source": [
        "df_scores[df_scores.threshold==0.52].f1_score"
      ],
      "metadata": {
        "colab": {
          "base_uri": "https://localhost:8080/"
        },
        "id": "O-zQYZEw06Ec",
        "outputId": "7aaa68ec-6d6e-4212-89ed-0ed1ee9d876f"
      },
      "execution_count": 96,
      "outputs": [
        {
          "output_type": "execute_result",
          "data": {
            "text/plain": [
              "52    0.883685\n",
              "Name: f1_score, dtype: float64"
            ]
          },
          "metadata": {},
          "execution_count": 96
        }
      ]
    },
    {
      "cell_type": "code",
      "source": [
        "df_scores[df_scores.threshold==0.32].f1_score"
      ],
      "metadata": {
        "colab": {
          "base_uri": "https://localhost:8080/"
        },
        "id": "NVOdB9o02Ccq",
        "outputId": "13ce5eb6-6f7c-4232-b971-c14261fdef50"
      },
      "execution_count": 97,
      "outputs": [
        {
          "output_type": "execute_result",
          "data": {
            "text/plain": [
              "32    0.872017\n",
              "Name: f1_score, dtype: float64"
            ]
          },
          "metadata": {},
          "execution_count": 97
        }
      ]
    },
    {
      "cell_type": "code",
      "source": [
        "df_scores[df_scores.threshold==0.72].f1_score"
      ],
      "metadata": {
        "colab": {
          "base_uri": "https://localhost:8080/"
        },
        "id": "QqZuhZ0k2FT8",
        "outputId": "d7f13276-b691-4eaf-8b25-02a304d4e26e"
      },
      "execution_count": 98,
      "outputs": [
        {
          "output_type": "execute_result",
          "data": {
            "text/plain": [
              "72    0.849408\n",
              "Name: f1_score, dtype: float64"
            ]
          },
          "metadata": {},
          "execution_count": 98
        }
      ]
    },
    {
      "cell_type": "code",
      "source": [
        "df_scores[df_scores.threshold==0.12].f1_score"
      ],
      "metadata": {
        "colab": {
          "base_uri": "https://localhost:8080/"
        },
        "id": "SBpUDLWs2Ih-",
        "outputId": "f4ed4053-2e31-41ff-8abc-70495fe7dbe6"
      },
      "execution_count": 99,
      "outputs": [
        {
          "output_type": "execute_result",
          "data": {
            "text/plain": [
              "12    0.808591\n",
              "Name: f1_score, dtype: float64"
            ]
          },
          "metadata": {},
          "execution_count": 99
        }
      ]
    },
    {
      "cell_type": "markdown",
      "source": [
        "##Q.5"
      ],
      "metadata": {
        "id": "TXhwpMHV2Srs"
      }
    },
    {
      "cell_type": "code",
      "source": [
        "from sklearn.model_selection import KFold"
      ],
      "metadata": {
        "id": "hpbIMwqR2NCt"
      },
      "execution_count": 100,
      "outputs": []
    },
    {
      "cell_type": "code",
      "source": [
        "from tqdm.auto import tqdm\n"
      ],
      "metadata": {
        "id": "HlS8FgZ36Lhv"
      },
      "execution_count": 101,
      "outputs": []
    },
    {
      "cell_type": "code",
      "source": [
        "kfold =KFold(n_splits=5, shuffle=True, random_state=1)\n",
        "\n",
        "scores = []\n",
        "\n",
        "for train_idx, val_idx in kfold.split(X_full_train):\n",
        "  df_train = X_full_train.iloc[train_idx]\n",
        "  df_val = X_full_train.iloc[val_idx]\n",
        "\n",
        "  y_train = y_full_train[train_idx].reshape(-1)\n",
        "  y_val = y_full_train[val_idx].reshape(-1)\n",
        "\n",
        "  dv, model = train(df_train, y_train)\n",
        "  y_pred = predict(df_val, dv, model)\n",
        "\n",
        "  auc = roc_auc_score(y_val, y_pred)\n",
        "  scores.append(auc)\n",
        "\n",
        "print(' %.3f +- %.3f' % (np.mean(scores), np.std(scores)))\n"
      ],
      "metadata": {
        "colab": {
          "base_uri": "https://localhost:8080/"
        },
        "id": "NBzBYVf96s8N",
        "outputId": "d4801e6e-ba40-4b7c-a776-a44ac69253fa"
      },
      "execution_count": 108,
      "outputs": [
        {
          "output_type": "stream",
          "name": "stdout",
          "text": [
            " 0.979 +- 0.002\n"
          ]
        }
      ]
    },
    {
      "cell_type": "markdown",
      "source": [
        "##Q.6"
      ],
      "metadata": {
        "id": "hfC1OpZM92fI"
      }
    },
    {
      "cell_type": "code",
      "source": [
        "def train_params(X_train, y_train, c):\n",
        "    dicts = X_train.to_dict(orient='records')\n",
        "\n",
        "    dv = DictVectorizer(sparse=False)\n",
        "    X_train = dv.fit_transform(dicts)\n",
        "\n",
        "    model = LogisticRegression(solver='liblinear', C=c, max_iter=1000)\n",
        "    model.fit(X_train, y_train)\n",
        "\n",
        "    return dv, model"
      ],
      "metadata": {
        "id": "u731pF8S8msG"
      },
      "execution_count": 105,
      "outputs": []
    },
    {
      "cell_type": "code",
      "source": [
        "n_splits=5\n",
        "\n",
        "# C = regularization parameter for the model\n",
        "# tqdm() is a function that prints progress bars\n",
        "for C in tqdm([0.01, 0.1, 0.5, 10]):\n",
        "\n",
        "  kfold =KFold(n_splits=n_splits, shuffle=True, random_state=1)\n",
        "\n",
        "  scores = []\n",
        "\n",
        "  for train_idx, val_idx in kfold.split(X_full_train):\n",
        "    df_train = X_full_train.iloc[train_idx]\n",
        "    df_val = X_full_train.iloc[val_idx]\n",
        "\n",
        "    y_train = y_full_train[train_idx].reshape(-1)\n",
        "    y_val = y_full_train[val_idx].reshape(-1)\n",
        "\n",
        "    dv, model = train_params(df_train, y_train, C)\n",
        "    y_pred = predict(df_val, dv, model)\n",
        "\n",
        "    auc = roc_auc_score(y_val, y_pred)\n",
        "    scores.append(auc)\n",
        "\n",
        "  print('C=%s %.3f +- %.3f' % (C, np.mean(scores), np.std(scores)))\n",
        "\n"
      ],
      "metadata": {
        "colab": {
          "base_uri": "https://localhost:8080/",
          "height": 120,
          "referenced_widgets": [
            "3e246eb582f643d5b06bc2f86bbba819",
            "fedbd8f5f93f4949919feca1075f8a8b",
            "354d8014607a4ee183b7d52dcb46fff9",
            "c87bf8fb4e3c43e4985104dfa68f6b7d",
            "2743ba343c5b43439e519a499a1db243",
            "6806ef70db554d6a8ca41b911412d1bb",
            "50957f20ad924bf58cfa2c46da4ad6f5",
            "588c38a5bca142989220e0ef100ad4e9",
            "25776093375c46a0b7dc9674f3a2036a",
            "9b6e101ba14a4e3b91596da8de19bd65",
            "b8591fb0ffd546b7b250ca04a721ede5"
          ]
        },
        "id": "cavO1ijr58JI",
        "outputId": "1a3c0071-8afa-4886-9475-d6092dcfa8bf"
      },
      "execution_count": 107,
      "outputs": [
        {
          "output_type": "display_data",
          "data": {
            "text/plain": [
              "  0%|          | 0/4 [00:00<?, ?it/s]"
            ],
            "application/vnd.jupyter.widget-view+json": {
              "version_major": 2,
              "version_minor": 0,
              "model_id": "3e246eb582f643d5b06bc2f86bbba819"
            }
          },
          "metadata": {}
        },
        {
          "output_type": "stream",
          "name": "stdout",
          "text": [
            "C=0.01 0.952 +- 0.003\n",
            "C=0.1 0.972 +- 0.002\n",
            "C=0.5 0.977 +- 0.002\n",
            "C=10 0.981 +- 0.003\n"
          ]
        }
      ]
    }
  ]
}