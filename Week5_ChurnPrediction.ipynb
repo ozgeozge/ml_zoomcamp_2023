{
  "nbformat": 4,
  "nbformat_minor": 0,
  "metadata": {
    "colab": {
      "provenance": []
    },
    "kernelspec": {
      "name": "python3",
      "display_name": "Python 3"
    },
    "language_info": {
      "name": "python"
    }
  },
  "cells": [
    {
      "cell_type": "code",
      "source": [
        "data = \"https://raw.githubusercontent.com/alexeygrigorev/mlbookcamp-code/master/chapter-03-churn-prediction/WA_Fn-UseC_-Telco-Customer-Churn.csv\""
      ],
      "metadata": {
        "id": "7IQpJGcqaAN5"
      },
      "execution_count": 7,
      "outputs": []
    },
    {
      "cell_type": "code",
      "execution_count": 8,
      "metadata": {
        "colab": {
          "base_uri": "https://localhost:8080/"
        },
        "id": "HBFrbbpRZFNC",
        "outputId": "3054b80c-c688-4eb1-be07-99e15e913c09"
      },
      "outputs": [
        {
          "output_type": "stream",
          "name": "stdout",
          "text": [
            "--2023-10-14 12:57:23--  https://raw.githubusercontent.com/alexeygrigorev/mlbookcamp-code/master/chapter-03-churn-prediction/WA_Fn-UseC_-Telco-Customer-Churn.csv\n",
            "Resolving raw.githubusercontent.com (raw.githubusercontent.com)... 185.199.109.133, 185.199.111.133, 185.199.110.133, ...\n",
            "Connecting to raw.githubusercontent.com (raw.githubusercontent.com)|185.199.109.133|:443... connected.\n",
            "HTTP request sent, awaiting response... 200 OK\n",
            "Length: 977501 (955K) [text/plain]\n",
            "Saving to: ‘data-week-3.csv’\n",
            "\n",
            "\rdata-week-3.csv       0%[                    ]       0  --.-KB/s               \rdata-week-3.csv     100%[===================>] 954.59K  --.-KB/s    in 0.07s   \n",
            "\n",
            "2023-10-14 12:57:23 (13.7 MB/s) - ‘data-week-3.csv’ saved [977501/977501]\n",
            "\n"
          ]
        }
      ],
      "source": [
        "!wget  $data -O data-week-3.csv"
      ]
    },
    {
      "cell_type": "code",
      "source": [
        "import numpy as np\n",
        "import pandas as pd\n",
        "import matplotlib.pyplot as plt\n",
        "from sklearn.model_selection import train_test_split, KFold\n",
        "\n",
        "from sklearn.feature_extraction import DictVectorizer\n",
        "from sklearn.linear_model import LogisticRegression\n",
        "from sklearn.metrics import roc_auc_score"
      ],
      "metadata": {
        "id": "VzunJj2JZ1W7"
      },
      "execution_count": 9,
      "outputs": []
    },
    {
      "cell_type": "code",
      "source": [
        "df = pd.read_csv('data-week-3.csv')\n",
        "df.columns=df.columns.str.lower().str.replace(' ','_')\n",
        "strings = list(df.dtypes[df.dtypes=='object'].index)\n",
        "for col in strings:\n",
        "  df[col]= df[col].str.lower().str.replace(' ','_')\n",
        "\n",
        "df.totalcharges = pd.to_numeric(df.totalcharges, errors='coerce')\n",
        "df.totalcharges = df.totalcharges.fillna(0)\n",
        "df.churn = (df.churn=='yes').astype(int)"
      ],
      "metadata": {
        "id": "vanuCEBDaItv"
      },
      "execution_count": 10,
      "outputs": []
    },
    {
      "cell_type": "code",
      "source": [
        "df_full_train, df_test = train_test_split(df, test_size=0.2, random_state=1)"
      ],
      "metadata": {
        "id": "bKYYw9zehsod"
      },
      "execution_count": 11,
      "outputs": []
    },
    {
      "cell_type": "code",
      "source": [
        "numerical=['tenure','monthlycharges','totalcharges']\n",
        "categorical = [ 'gender', 'seniorcitizen', 'partner', 'dependents',\n",
        "        'phoneservice', 'multiplelines', 'internetservice',\n",
        "       'onlinesecurity', 'onlinebackup', 'deviceprotection', 'techsupport',\n",
        "       'streamingtv', 'streamingmovies', 'contract', 'paperlessbilling',\n",
        "       'paymentmethod']"
      ],
      "metadata": {
        "id": "5Zzi53H787_Z"
      },
      "execution_count": 12,
      "outputs": []
    },
    {
      "cell_type": "code",
      "source": [
        "def train(df_train,y_train,C=1.0):\n",
        "  dicts=df_train[categorical+numerical].to_dict(orient='records')\n",
        "\n",
        "  dv = DictVectorizer(sparse=False)\n",
        "  X_train= dv.fit_transform(dicts)\n",
        "\n",
        "  model = LogisticRegression(C=C, max_iter=1000)\n",
        "  model.fit(X_train,y_train)\n",
        "  return dv,model\n"
      ],
      "metadata": {
        "id": "s_5b7sWZ9Ev4"
      },
      "execution_count": 17,
      "outputs": []
    },
    {
      "cell_type": "code",
      "source": [
        "def predict(df,dv,model):\n",
        "  dicts=df[categorical+numerical].to_dict(orient='records')\n",
        "\n",
        "  dv = DictVectorizer(sparse=False)\n",
        "  X= dv.fit_transform(dicts)\n",
        "\n",
        "  y_pred = model.predict_proba(X)[:,1]\n",
        "  return y_pred"
      ],
      "metadata": {
        "id": "vhR3I5F5_hH7"
      },
      "execution_count": 14,
      "outputs": []
    },
    {
      "cell_type": "code",
      "source": [
        "C=1.0\n",
        "n_splits = 5"
      ],
      "metadata": {
        "id": "47IBiEhTAD71"
      },
      "execution_count": 15,
      "outputs": []
    },
    {
      "cell_type": "code",
      "source": [
        "kfold =KFold(n_splits=n_splits, shuffle=True,random_state=1)\n",
        "scores =[]\n",
        "for train_idx, val_idx in kfold.split(df_full_train):\n",
        "  df_train = df_full_train.iloc[train_idx]\n",
        "  df_val = df_full_train.iloc[val_idx]\n",
        "\n",
        "  y_train = df_train.churn.values\n",
        "  y_val = df_val.churn.values\n",
        "\n",
        "  dv,model = train(df_train,y_train, C=C)\n",
        "  y_pred = predict(df_val,dv,model)\n",
        "\n",
        "  auc_score = roc_auc_score(y_val,y_pred)\n",
        "  scores.append(auc_score)\n",
        "print('C=%s %.3f +- %.3f'%(C,np.mean(scores),np.std(scores)))"
      ],
      "metadata": {
        "colab": {
          "base_uri": "https://localhost:8080/"
        },
        "id": "_1yKkHRcAHOZ",
        "outputId": "9a696aa9-5177-49c7-a92b-57d150759ab2"
      },
      "execution_count": 29,
      "outputs": [
        {
          "output_type": "stream",
          "name": "stdout",
          "text": [
            "C=1.0 0.841 +- 0.009\n"
          ]
        }
      ]
    },
    {
      "cell_type": "code",
      "source": [
        "  dv,model = train(df_full_train,df_full_train.churn.values, C=C)\n",
        "  y_pred = predict(df_test,dv,model)\n",
        "  y_test= df_test.churn.values\n",
        "  auc_score = roc_auc_score(y_test,y_pred)\n",
        "  auc_score"
      ],
      "metadata": {
        "colab": {
          "base_uri": "https://localhost:8080/"
        },
        "id": "a7V8r-LMLrcV",
        "outputId": "7b43671e-5204-4a21-cb64-63c6f1e0f846"
      },
      "execution_count": 30,
      "outputs": [
        {
          "output_type": "execute_result",
          "data": {
            "text/plain": [
              "0.8572386167896259"
            ]
          },
          "metadata": {},
          "execution_count": 30
        }
      ]
    },
    {
      "cell_type": "markdown",
      "source": [
        "save the model"
      ],
      "metadata": {
        "id": "NITNlOoZMMDN"
      }
    },
    {
      "cell_type": "code",
      "source": [
        "import pickle"
      ],
      "metadata": {
        "id": "zvUzGgJuMNfc"
      },
      "execution_count": 20,
      "outputs": []
    },
    {
      "cell_type": "code",
      "source": [
        "output_file = f'model_C={C}.bin'\n",
        "with open(output_file,'wb') as f_out:\n",
        "  pickle.dump((dv,model),f_out)\n"
      ],
      "metadata": {
        "id": "WTb-j6F5MhLZ"
      },
      "execution_count": 31,
      "outputs": []
    },
    {
      "cell_type": "markdown",
      "source": [
        "load the model"
      ],
      "metadata": {
        "id": "iDzDslQSMbaH"
      }
    },
    {
      "cell_type": "code",
      "source": [
        "import pickle\n",
        "model_file = f'model_C={C}.bin'\n",
        "\n",
        "with open(model_file,'rb') as f_in:\n",
        "  dv,model = pickle.load(f_in)"
      ],
      "metadata": {
        "id": "PryBmw4MMaln"
      },
      "execution_count": 32,
      "outputs": []
    },
    {
      "cell_type": "code",
      "source": [
        "customer = {\n",
        "    'gender': 'female',\n",
        "    'seniorcitizen': 0,\n",
        "    'partner': 'yes',\n",
        "    'dependents': 'no',\n",
        "    'phoneservice': 'no',\n",
        "    'multiplelines': 'no_phone_service',\n",
        "    'internetservice': 'dsl',\n",
        "    'onlinesecurity': 'no',\n",
        "    'onlinebackup': 'yes',\n",
        "    'deviceprotection': 'no',\n",
        "    'techsupport': 'no',\n",
        "    'streamingtv': 'no',\n",
        "    'streamingmovies': 'no',\n",
        "    'contract': 'month-to-month',\n",
        "    'paperlessbilling': 'yes',\n",
        "    'paymentmethod': 'electronic_check',\n",
        "    'tenure': 1,\n",
        "    'monthlycharges': 29.85,\n",
        "    'totalcharges': 29.85\n",
        "}"
      ],
      "metadata": {
        "id": "C5nhuUBjQb2J"
      },
      "execution_count": 27,
      "outputs": []
    },
    {
      "cell_type": "code",
      "source": [
        "X=dv.transform([customer])\n",
        "model.predict_proba(X)[0,1]"
      ],
      "metadata": {
        "colab": {
          "base_uri": "https://localhost:8080/"
        },
        "id": "7HNkSnsgQerJ",
        "outputId": "97e9cef1-c7f7-48fd-9b8f-5379244f09fa"
      },
      "execution_count": 33,
      "outputs": [
        {
          "output_type": "execute_result",
          "data": {
            "text/plain": [
              "0.636358415272119"
            ]
          },
          "metadata": {},
          "execution_count": 33
        }
      ]
    }
  ]
}